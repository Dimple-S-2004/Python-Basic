{
  "nbformat": 4,
  "nbformat_minor": 0,
  "metadata": {
    "colab": {
      "provenance": []
    },
    "kernelspec": {
      "name": "python3",
      "display_name": "Python 3"
    },
    "language_info": {
      "name": "python"
    }
  },
  "cells": [
    {
      "cell_type": "markdown",
      "source": [
        "Theory Question\n",
        "\n",
        "1.What is Object-Oriented Programming (OOP)?\n",
        "\n",
        "--> OOP is a programming paradigm that organizes code into objects, which combine data (attributes) and behavior (methods).\n",
        "It supports encapsulation, inheritance, polymorphism, and abstraction.\n",
        "\n",
        "----\n",
        "\n",
        "2.What is a class in OOP?\n",
        "\n",
        "-->A class is a blueprint for creating objects.\n",
        "It defines attributes (variables) and methods (functions).\n",
        "\n",
        "Example:\n",
        "\n",
        "class Car:\n",
        "    def __init__(self, brand, color):\n",
        "        self.brand = brand\n",
        "        self.color = color\n",
        "\n",
        "---\n",
        "\n",
        "3.What is an object in OOP?\n",
        "\n",
        "--> An object is an instance of a class with its own values.\n",
        "\n",
        "car1 = Car(\"Toyota\", \"Red\")\n",
        "car2 = Car(\"Tesla\", \"Black\")\n",
        "\n",
        "---\n",
        "\n",
        "4.What is the difference between abstraction and encapsulation?\n",
        "\n",
        "-->Abstraction → Hiding implementation details, showing only essentials.\n",
        "\n",
        "Encapsulation → Wrapping data + methods into a class and restricting direct access.\n",
        "\n",
        "Example:\n",
        "\n",
        "Abstraction: car.start() hides how the engine starts.\n",
        "\n",
        "Encapsulation: Making an attribute private using _ or __.\n",
        "\n",
        "---\n",
        "\n",
        "5.What are dunder methods in Python?\n",
        "\n",
        "-->\"Dunder\" = Double UNDerscore methods like __init__, __str__, __len__.\n",
        "They let objects interact with built-in Python behavior.\n",
        "\n",
        "Example:\n",
        "\n",
        "class Book:\n",
        "    def __init__(self, title):\n",
        "        self.title = title\n",
        "    def __str__(self):\n",
        "        return f\"Book: {self.title}\"\n",
        "\n",
        "---\n",
        "\n",
        "6.Explain the Concept of Inheritance in OOP\n",
        "\n",
        "--> Inheritance allows a class (child) to acquire properties and methods of another class (parent).\n",
        "It promotes reusability and hierarchical classification.\n",
        "\n",
        "---\n",
        "\n",
        "7.What is Polymorphism in OOP?\n",
        "\n",
        "--> Polymorphism means same function name, different behavior depending on the object.\n",
        "\n",
        "---\n",
        "\n",
        "8.How is Encapsulation Achieved in Python?\n",
        "\n",
        "--> By declaring attributes as private/protected using _ or __, and accessing them via getters/setters.\n",
        "\n",
        "---\n",
        "\n",
        "9.What is a Constructor in Python?\n",
        "\n",
        "--> The __init__ method is called automatically when an object is created.\n",
        "It initializes object attributes.\n",
        "\n",
        "---\n",
        "\n",
        "10.What are Class and Static Methods in Python?\n",
        "\n",
        "--> Class Method: Works with class-level data (cls). Declared with @classmethod.\n",
        "\n",
        "Static Method: Independent utility. Declared with @staticmethod.\n",
        "\n",
        "---\n",
        "\n",
        "11.What is Method Overloading in Python?\n",
        "\n",
        "--> Python does not support true method overloading.\n",
        "It can be simulated with default arguments or *args.\n",
        "\n",
        "---\n",
        "\n",
        "12.What is Method Overriding in OOP?\n",
        "\n",
        "When a subclass provides a new implementation of a method defined in its parent class.\n",
        "\n",
        "---\n",
        "\n",
        "13.What is a Property Decorator in Python?\n",
        "\n",
        "--> @property is used to make a method act like an attribute (getter).\n",
        "It is commonly used for controlled access to private variables.\n",
        "\n",
        "---\n",
        "\n",
        "14.Why is Polymorphism Important in OOP?\n",
        "\n",
        "--> Improves flexibility and reusability\n",
        "\n",
        "Supports generic programming\n",
        "\n",
        "Reduces duplication\n",
        "\n",
        "---\n",
        "\n",
        "15.What is an Abstract Class in Python?\n",
        "\n",
        "--> A class with one or more abstract methods (defined but not implemented).\n",
        "It cannot be instantiated.\n",
        "Defined using abc module.\n",
        "\n",
        "---\n",
        "\n",
        "16.What are the Advantages of OOP?\n",
        "\n",
        "--> Modularity\n",
        "\n",
        "Code reusability\n",
        "\n",
        "Abstraction of complex systems\n",
        "\n",
        "Easy maintenance and debugging\n",
        "\n",
        "Real-world modeling\n",
        "\n",
        "---\n",
        "\n",
        "17.What is difference between Class Variable and Instance Variable?\n",
        "\n",
        "--> Class Variable\n",
        "\n",
        "Belongs to the class (shared across all objects).\n",
        "\n",
        "Defined inside the class but outside methods.\n",
        "\n",
        "Changing it via the class affects all instances (unless overridden in an instance).\n",
        "\n",
        "Instance Variable\n",
        "\n",
        "Belongs to a specific object (unique for each instance).\n",
        "\n",
        "Usually defined inside __init__ using self.\n",
        "\n",
        "Changing it affects only that particular object.\n",
        "\n",
        "Example:\n",
        "class Student:\n",
        "    school_name = \"ABC School\"   # Class variable (shared)\n",
        "\n",
        "    def __init__(self, name, age):\n",
        "        self.name = name         # Instance variable\n",
        "        self.age = age           # Instance variable\n",
        "\n",
        "# Create objects\n",
        "s1 = Student(\"Alice\", 20)\n",
        "s2 = Student(\"Bob\", 22)\n",
        "\n",
        "print(s1.school_name)  # ABC School\n",
        "print(s2.school_name)  # ABC School\n",
        "\n",
        "# Change class variable\n",
        "Student.school_name = \"XYZ School\"\n",
        "print(s1.school_name)  # XYZ School\n",
        "print(s2.school_name)  # XYZ School\n",
        "\n",
        "# Change instance variable\n",
        "s1.name = \"Alicia\"\n",
        "print(s1.name)  # Alicia\n",
        "print(s2.name)  # Bob\n",
        "\n",
        "---\n",
        "\n",
        "18. What is Multiple Inheritance in Python?\n",
        "\n",
        "--> Multiple inheritance is when a class inherits from more than one parent class.\n",
        "It allows a child class to use attributes and methods from multiple base classes.\n",
        "\n",
        "example: class Father:\n",
        "    def skill(self):\n",
        "        print(\"Father's skill: Gardening\")\n",
        "\n",
        "class Mother:\n",
        "    def skill(self):\n",
        "        print(\"Mother's skill: Cooking\")\n",
        "\n",
        "class Child(Father, Mother):   # Multiple Inheritance\n",
        "    pass\n",
        "\n",
        "c = Child()\n",
        "c.skill()\n",
        "\n",
        "---\n",
        "\n",
        "19.Explain the purpose of ‘’__str__’ and ‘__repr__’ ‘ methods in Python.\n",
        "\n",
        "-->Purpose of __str__ and __repr__ methods\n",
        "\n",
        "__str__ → Defines a user-friendly string representation of an object (used with print() or str()).\n",
        "\n",
        "__repr__ → Defines a developer-oriented string representation (used in debugging, console, or repr()).\n",
        "\n",
        "class Book:\n",
        "    def __init__(self, title, author):\n",
        "        self.title = title\n",
        "        self.author = author\n",
        "    \n",
        "    def __str__(self):   # User-friendly\n",
        "        return f\"{self.title} by {self.author}\"\n",
        "    \n",
        "    def __repr__(self):  # Developer-friendly\n",
        "        return f\"Book(title='{self.title}', author='{self.author}')\"\n",
        "\n",
        "b = Book(\"Python Basics\", \"Alice\")\n",
        "print(str(b))   # Python Basics by Alice\n",
        "print(repr(b))  # Book(title='Python Basics', author='Alice')\n",
        "\n",
        "--\n",
        "\n",
        "20.What is the significance of the ‘super()’ function in Python?\n",
        "\n",
        "-->Significance of super() function\n",
        "\n",
        "Used to call methods from the parent class inside a child class.\n",
        "\n",
        "Avoids directly naming the parent class → helps in multiple inheritance (MRO – Method Resolution Order).\n",
        "\n",
        "class Parent:\n",
        "    def greet(self):\n",
        "        print(\"Hello from Parent\")\n",
        "\n",
        "class Child(Parent):\n",
        "    def greet(self):\n",
        "        super().greet()   # Calls Parent.greet()\n",
        "        print(\"Hello from Child\")\n",
        "\n",
        "c = Child()\n",
        "c.greet()\n",
        "\n",
        "---\n",
        "\n",
        "21.What is the significance of the __del__ method in Python?\n",
        "\n",
        "--> Destructor method in Python.\n",
        "\n",
        "Automatically called when an object is about to be destroyed (garbage collected).\n",
        "\n",
        "Used to clean up resources (like closing files or network connections).\n",
        "\n",
        "class FileHandler:\n",
        "    def __init__(self, filename):\n",
        "        self.file = open(filename, \"w\")\n",
        "    \n",
        "    def __del__(self):\n",
        "        self.file.close()\n",
        "        print(\"File closed and object destroyed\")\n",
        "\n",
        "f = FileHandler(\"test.txt\")\n",
        "del f   # Calls __del__ method\n",
        "\n",
        "---\n",
        "\n",
        "22.What is the difference between @staticmethod and @classmethod in Python?\n",
        "\n",
        "-->@staticmethod → A method that does not depend on instance or class. Works like a normal function inside a class.\n",
        "\n",
        "@classmethod → Receives the class (cls) as the first argument. Can access/modify class-level variables.\n",
        "\n",
        "class Example:\n",
        "    count = 0\n",
        "\n",
        "    @staticmethod\n",
        "    def greet(name):   # No access to class/instance\n",
        "        print(f\"Hello, {name}\")\n",
        "\n",
        "    @classmethod\n",
        "    def increment(cls):   # Has access to class\n",
        "        cls.count += 1\n",
        "        print(f\"Count = {cls.count}\")\n",
        "\n",
        "Example.greet(\"Alice\")     # Hello, Alice\n",
        "Example.increment()        # Count = 1\n",
        "\n",
        "---\n",
        "\n",
        "23.How does polymorphism work in Python with inheritance?\n",
        "\n",
        "-->Polymorphism → Same method name but different behavior depending on the object/class.\n",
        "\n",
        "Achieved via method overriding in inheritance.\n",
        "\n",
        "class Animal:\n",
        "    def sound(self):\n",
        "        return \"Some sound\"\n",
        "\n",
        "class Dog(Animal):\n",
        "    def sound(self):\n",
        "        return \"Bark\"\n",
        "\n",
        "class Cat(Animal):\n",
        "    def sound(self):\n",
        "        return \"Meow\"\n",
        "\n",
        "animals = [Dog(), Cat(), Animal()]\n",
        "for a in animals:\n",
        "    print(a.sound())\n",
        "\n",
        "----\n",
        "\n",
        "24.What is method chaining in Python OOP?\n",
        "\n",
        "-->Returning self from methods allows chaining multiple method calls together.\n",
        "\n",
        "Makes code cleaner and fluent.\n",
        "\n",
        "class Calculator:\n",
        "    def __init__(self, value=0):\n",
        "        self.value = value\n",
        "    \n",
        "    def add(self, x):\n",
        "        self.value += x\n",
        "        return self\n",
        "    \n",
        "    def multiply(self, x):\n",
        "        self.value *= x\n",
        "        return self\n",
        "\n",
        "calc = Calculator()\n",
        "result = calc.add(10).multiply(5).add(3).value\n",
        "print(result)\n",
        "\n",
        "---\n",
        "\n",
        "25.What is the purpose of the __call__ method in Python?\n",
        "\n",
        "-->Purpose of the __call__ method:\n",
        "\n",
        "Makes a class instance callable like a function.\n",
        "\n",
        "Used in decorators, machine learning models, etc.\n",
        "\n",
        "class Greeter:\n",
        "    def __init__(self, greeting):\n",
        "        self.greeting = greeting\n",
        "    \n",
        "    def __call__(self, name):\n",
        "        return f\"{self.greeting}, {name}!\"\n",
        "\n",
        "g = Greeter(\"Hello\")\n",
        "print(g(\"Alice\"))"
      ],
      "metadata": {
        "id": "u9cWzSDHVfj_"
      }
    },
    {
      "cell_type": "code",
      "source": [
        "#Create a parent class Animal with a method speak() that prints a generic message. Create a child class Dog\n",
        "#that overrides the speak() method to print \"Bark!\"\n",
        "\n",
        "class Animal:\n",
        "    def speak(self):\n",
        "        print(\"Generic Animal sound\")\n",
        "\n",
        "class Dog(Animal):\n",
        "    def speak(self):\n",
        "        print(\"Bark!\")"
      ],
      "metadata": {
        "id": "vlRkKbj3XOxc"
      },
      "execution_count": null,
      "outputs": []
    },
    {
      "cell_type": "code",
      "source": [
        "d = Dog()\n",
        "d.speak()"
      ],
      "metadata": {
        "colab": {
          "base_uri": "https://localhost:8080/"
        },
        "id": "XJuDCS4IWRL2",
        "outputId": "188425eb-c6a8-4a3d-c2f6-a32dfb031758"
      },
      "execution_count": null,
      "outputs": [
        {
          "output_type": "stream",
          "name": "stdout",
          "text": [
            "Bark!\n"
          ]
        }
      ]
    },
    {
      "cell_type": "code",
      "source": [
        "#Write a program to create an abstract class Shape with a method area(). Derive classes Circle and Rectangle\n",
        "#from it and implement the area() method in both\n",
        "\n",
        "from abc import ABC, abstractmethod\n",
        "\n",
        "class Shape(ABC):\n",
        "    @abstractmethod\n",
        "    def area(self):\n",
        "        pass\n",
        "\n",
        "class Circle(Shape):\n",
        "    def __init__(self,r):\n",
        "        self.r = r\n",
        "    def area(self):\n",
        "        return 3.14 * self.r**2\n",
        "\n",
        "class Rectangle(Shape):\n",
        "    def __init__(self,l,b):\n",
        "        self.l = l\n",
        "        self.b = b\n",
        "\n",
        "    def area(self):\n",
        "        return self.l * self.b\n",
        "\n",
        "\n"
      ],
      "metadata": {
        "id": "2H6GoBeTWWB3"
      },
      "execution_count": null,
      "outputs": []
    },
    {
      "cell_type": "code",
      "source": [
        "c = Circle(6)\n",
        "r = Rectangle(5,10)\n",
        "print(c.area())\n",
        "print(r.area())"
      ],
      "metadata": {
        "colab": {
          "base_uri": "https://localhost:8080/"
        },
        "id": "BX4vjjRRYw36",
        "outputId": "5bfc9484-6ace-4a79-96df-9c334d2e6bec"
      },
      "execution_count": null,
      "outputs": [
        {
          "output_type": "stream",
          "name": "stdout",
          "text": [
            "113.04\n",
            "50\n"
          ]
        }
      ]
    },
    {
      "cell_type": "code",
      "source": [
        "#3. Implement a multi-level inheritance scenario where a class Vehicle has an attribute type. Derive a class Car\n",
        "#and further derive a class ElectricCar that adds a battery attribute.\n",
        "\n",
        "class Vehicle:\n",
        "  def __init__(self, vtype):\n",
        "    self.vtype = vtype\n",
        "\n",
        "class Car(Vehicle):\n",
        "  def __init__(self, vtype, color):\n",
        "    super().__init__(vtype)\n",
        "    self.color = color\n",
        "\n",
        "class ElectricCar(Car):\n",
        "  def __init__(self, vtype, color, battery):\n",
        "    super().__init__(vtype, color)\n",
        "    self.battery = battery"
      ],
      "metadata": {
        "id": "ptitWZuHZSQ4"
      },
      "execution_count": null,
      "outputs": []
    },
    {
      "cell_type": "code",
      "source": [
        "e = ElectricCar(\"Four-Wheeler\", \"Black\", \"80kwh\")\n",
        "print(e.vtype)\n",
        "print(e.color)\n",
        "print(e.battery)"
      ],
      "metadata": {
        "colab": {
          "base_uri": "https://localhost:8080/"
        },
        "id": "h_PQS5QraAmC",
        "outputId": "bc9bcb83-f2b0-440a-88c7-a0611594353b"
      },
      "execution_count": null,
      "outputs": [
        {
          "output_type": "stream",
          "name": "stdout",
          "text": [
            "Four-Wheeler\n",
            "Black\n",
            "80kwh\n"
          ]
        }
      ]
    },
    {
      "cell_type": "code",
      "source": [
        "# 4. Demonstrate polymorphism by creating a base class Bird with a method fly(). Create two derived classes\n",
        "#Sparrow and Penguin that override the fly() method.\n",
        "\n",
        "class Bird:\n",
        "  def fly(self):\n",
        "    print(\"Bird is flying\")\n",
        "\n",
        "class Sparrow(Bird):\n",
        "  def fly(self):\n",
        "    print(\"Sparrow is flying\")\n",
        "\n",
        "class Penguin(Bird):\n",
        "  def fly(self):\n",
        "    print(\"Penguin is not flying\")\n",
        "\n",
        "\n"
      ],
      "metadata": {
        "id": "WTnpq4AKaoKx"
      },
      "execution_count": null,
      "outputs": []
    },
    {
      "cell_type": "code",
      "source": [
        "b1 = Sparrow()\n",
        "b2 = Penguin()\n",
        "b1.fly()\n",
        "b2.fly()"
      ],
      "metadata": {
        "colab": {
          "base_uri": "https://localhost:8080/"
        },
        "id": "RHHEp7r9JV_8",
        "outputId": "73fd6311-b717-4151-d771-e34b8bd83414"
      },
      "execution_count": null,
      "outputs": [
        {
          "output_type": "stream",
          "name": "stdout",
          "text": [
            "Sparrow is flying\n",
            "Penguin is not flying\n"
          ]
        }
      ]
    },
    {
      "cell_type": "code",
      "source": [
        "# 5. Write a program to emonstrate encpsulation by creating a class BankAccount with privte attributes balance and\n",
        "#methods to despoit, withdraw, and check balance.\n",
        "\n",
        "class BankAccount:\n",
        "  def __init__(self, balance):\n",
        "    self.__balance = balance\n",
        "\n",
        "  def deposit(self, amount):\n",
        "    self.__balance += amount\n",
        "\n",
        "  def withdraw(self, amount):\n",
        "    if amount <= self.__balance:\n",
        "      self.__balance -= amount\n",
        "    else:\n",
        "      print(\"Insufficient balance\")\n",
        "\n",
        "  def get_balance(self):\n",
        "    return self.__balance"
      ],
      "metadata": {
        "id": "YYXO5zXYJgvw"
      },
      "execution_count": null,
      "outputs": []
    },
    {
      "cell_type": "code",
      "source": [
        "b = BankAccount(1500)\n",
        "print(b.deposit(500))\n",
        "print(b.withdraw(200))\n",
        "print(\"Balance:\", b.get_balance())"
      ],
      "metadata": {
        "colab": {
          "base_uri": "https://localhost:8080/"
        },
        "id": "jaNNRwKSKhVB",
        "outputId": "979f7f97-2c99-4ddd-c4bd-7951418c45df"
      },
      "execution_count": null,
      "outputs": [
        {
          "output_type": "stream",
          "name": "stdout",
          "text": [
            "None\n",
            "None\n",
            "Balance: 1800\n"
          ]
        }
      ]
    },
    {
      "cell_type": "code",
      "source": [
        "# 6.Demonstrate runtime polymorphism using a method play() in a base class instrument.\n",
        "#Derive classe Guitar and Piano that implement their own version of play()\n",
        "\n",
        "class Instrument:\n",
        "  def play(self):\n",
        "    print(\"Instrument playing\")\n",
        "\n",
        "class Guitar(Instrument):\n",
        "  def play(self):\n",
        "    print(\"Guitar playing\")\n",
        "\n",
        "class Piano(Instrument):\n",
        "   def play(self):\n",
        "     print(\"Piano playing\")\n"
      ],
      "metadata": {
        "id": "bqnm21CkK5X-"
      },
      "execution_count": null,
      "outputs": []
    },
    {
      "cell_type": "code",
      "source": [
        "m = Guitar()\n",
        "p = Piano()\n",
        "m.play()\n",
        "p.play()"
      ],
      "metadata": {
        "colab": {
          "base_uri": "https://localhost:8080/"
        },
        "id": "WrI_QE0aNIY1",
        "outputId": "59a4e48c-25b6-4beb-fb0b-e7826b1a12ee"
      },
      "execution_count": null,
      "outputs": [
        {
          "output_type": "stream",
          "name": "stdout",
          "text": [
            "Guitar playing\n",
            "Piano playing\n"
          ]
        }
      ]
    },
    {
      "cell_type": "code",
      "source": [
        "#7. Create a class Mathoperations with a class method add_numbeers() to add two numbers and a static\n",
        "\n",
        "class Mathoperations:\n",
        "  @classmethod\n",
        "  def add_numbers(cls, a, b):\n",
        "    return a + b\n",
        "\n",
        "  @staticmethod\n",
        "  def subtract_method(a , b ):\n",
        "    return a - b"
      ],
      "metadata": {
        "id": "-g7UbH8qNRBB"
      },
      "execution_count": null,
      "outputs": []
    },
    {
      "cell_type": "code",
      "source": [
        "print(Mathoperations.add_numbers(5,10))\n",
        "print(Mathoperations.subtract_method(5,10))"
      ],
      "metadata": {
        "colab": {
          "base_uri": "https://localhost:8080/"
        },
        "id": "sKblm4_fRMA0",
        "outputId": "2cc07740-aa72-4cee-b268-962b1318bb36"
      },
      "execution_count": null,
      "outputs": [
        {
          "output_type": "stream",
          "name": "stdout",
          "text": [
            "15\n",
            "-5\n"
          ]
        }
      ]
    },
    {
      "cell_type": "code",
      "source": [
        "#8.Implement a class Person with a class method to cound the total number of persons created.\n",
        "\n",
        "class Person:\n",
        "  count = 0\n",
        "  def __init__(self):\n",
        "    Person.count += 1\n",
        "\n",
        "  @classmethod\n",
        "  def get_count(cls):\n",
        "    return cls.count"
      ],
      "metadata": {
        "id": "rs6HHpP7RRJO"
      },
      "execution_count": null,
      "outputs": []
    },
    {
      "cell_type": "code",
      "source": [
        "p1 = Person()\n",
        "p2 = Person()\n",
        "p3 = Person()\n",
        "print(Person.get_count())"
      ],
      "metadata": {
        "colab": {
          "base_uri": "https://localhost:8080/"
        },
        "id": "5LOue8VmRv8X",
        "outputId": "8cdff430-7c90-43aa-f0a5-035f0fabc8d9"
      },
      "execution_count": null,
      "outputs": [
        {
          "output_type": "stream",
          "name": "stdout",
          "text": [
            "3\n"
          ]
        }
      ]
    },
    {
      "cell_type": "code",
      "source": [
        "#9.Write a class fraction with attributes numerator and denominator.Override the str method to display the\n",
        "#fraction as \"numerator/denomainator\"\n",
        "class Fration:\n",
        "  def __init__(self,num,den):\n",
        "    self.num = num\n",
        "    self.den = den\n",
        "  def __str__(self):\n",
        "    return f\"{self.num}/{self.den}\""
      ],
      "metadata": {
        "id": "KXI-jB3SR55c"
      },
      "execution_count": null,
      "outputs": []
    },
    {
      "cell_type": "code",
      "source": [
        "f = Fration(2,10)\n",
        "print(f)"
      ],
      "metadata": {
        "colab": {
          "base_uri": "https://localhost:8080/"
        },
        "id": "grR2YcmdSoKx",
        "outputId": "48461b18-4152-4cd6-e89e-5ad80ca099a2"
      },
      "execution_count": null,
      "outputs": [
        {
          "output_type": "stream",
          "name": "stdout",
          "text": [
            "2/10\n"
          ]
        }
      ]
    },
    {
      "cell_type": "code",
      "source": [
        "#10. Demonstrate operator overloading by creating a class vector and overriding the add method to add two vectors.\n",
        "\n",
        "class Vector:\n",
        "  def __init__(self, x, y):\n",
        "    self.x = x\n",
        "    self.y = y\n",
        "  def __add__(self, other):\n",
        "    return Vector(self.x + other.x, self.y + other.y)\n",
        "  def __str__(self):\n",
        "    return f\"({self.x},{self.y})\""
      ],
      "metadata": {
        "id": "BSaMqR6qSuxv"
      },
      "execution_count": null,
      "outputs": []
    },
    {
      "cell_type": "code",
      "source": [
        "v1 = Vector(4,5)\n",
        "v2 = Vector(8,9)\n",
        "print(v1 + v2)"
      ],
      "metadata": {
        "colab": {
          "base_uri": "https://localhost:8080/"
        },
        "id": "uGOnHHUwTpvN",
        "outputId": "dc65133c-2e7a-47d9-f5bb-347445f67285"
      },
      "execution_count": null,
      "outputs": [
        {
          "output_type": "stream",
          "name": "stdout",
          "text": [
            "(12,14)\n"
          ]
        }
      ]
    },
    {
      "cell_type": "code",
      "source": [
        "#11. Create a class Person with attributes name and age. Add a method greet() that prints \"Hello, my name is\n",
        "#{name} and I am {age} years old.\"\n",
        "\n",
        "class Person:\n",
        "  def __init__(self, name, age):\n",
        "    self.name = name\n",
        "    self.age = age\n",
        "\n",
        "  def greet(self):\n",
        "    print(f\"Hello, My name is {self.name} and I am {self.age} years old.\")"
      ],
      "metadata": {
        "id": "qorVlWhCT47U"
      },
      "execution_count": null,
      "outputs": []
    },
    {
      "cell_type": "code",
      "source": [
        "p = Person(\"Raj\" , 25)\n",
        "p.greet()"
      ],
      "metadata": {
        "colab": {
          "base_uri": "https://localhost:8080/"
        },
        "id": "aSY9wHpFUiCd",
        "outputId": "618f1272-c7fb-4408-f390-e591734a0038"
      },
      "execution_count": null,
      "outputs": [
        {
          "output_type": "stream",
          "name": "stdout",
          "text": [
            "Hello, My name is Raj and I am 25 years old.\n"
          ]
        }
      ]
    },
    {
      "cell_type": "code",
      "source": [
        "# 12. Implement a class Student with attributes name and grades. Create a method average_grade() to compute\n",
        "#the average of the grades.\n",
        "\n",
        "class Student:\n",
        "  def __init__(self, name, grades):\n",
        "    self.name = name\n",
        "    self.grades = grades\n",
        "\n",
        "  def average_grade(self):\n",
        "    return sum(self.grades) / len(self.grades)"
      ],
      "metadata": {
        "id": "Ma6sUtznUo5I"
      },
      "execution_count": null,
      "outputs": []
    },
    {
      "cell_type": "code",
      "source": [
        "s = Student(\"Amit\", [90,85,80])\n",
        "print(\"Average:\", s.average_grade())"
      ],
      "metadata": {
        "colab": {
          "base_uri": "https://localhost:8080/"
        },
        "id": "oB41TF0eVEkx",
        "outputId": "39693b42-9932-4e4f-81b1-3bd5794381af"
      },
      "execution_count": null,
      "outputs": [
        {
          "output_type": "stream",
          "name": "stdout",
          "text": [
            "Average: 85.0\n"
          ]
        }
      ]
    },
    {
      "cell_type": "code",
      "source": [
        "#13.Create a class Rectangle with methods set_dimensions() to set the dimensions and area() to calculate the area.\n",
        "\n",
        "class Rectangle:\n",
        "  def set_dimensions(self, length, width):\n",
        "    self.length = length\n",
        "    self.width = width\n",
        "\n",
        "  def area(self):\n",
        "    return self.length * self.width\n"
      ],
      "metadata": {
        "id": "Vi_yS9pQVQOJ"
      },
      "execution_count": null,
      "outputs": []
    },
    {
      "cell_type": "code",
      "source": [
        "r = Rectangle()\n",
        "r.set_dimensions(20,14)\n",
        "print(r.area())"
      ],
      "metadata": {
        "colab": {
          "base_uri": "https://localhost:8080/"
        },
        "id": "mpan6PAEVncK",
        "outputId": "31cce0cc-52f6-4f5d-b77b-4158d67f57d5"
      },
      "execution_count": null,
      "outputs": [
        {
          "output_type": "stream",
          "name": "stdout",
          "text": [
            "280\n"
          ]
        }
      ]
    },
    {
      "cell_type": "code",
      "source": [
        "#14.Create a class Employee with a method calculate_salary() that computes the salary based on hours worked\n",
        "#and hourly rate. Create a derived class Manager that adds a bonus to the salary.\n",
        "\n",
        "class Employee:\n",
        "  def __init__(self, hours,rate):\n",
        "    self.hours = hours\n",
        "    self.rate = rate\n",
        "\n",
        "  def calculate_salary(self):\n",
        "    return self.hours * self.rate\n",
        "\n",
        "class Manager(Employee):\n",
        "  def __init__(self, hours, rate, bonus):\n",
        "    super().__init__(hours, rate)\n",
        "    self.bonus = bonus\n",
        "\n",
        "  def calculate_salary(self):\n",
        "    return super().calculate_salary() + self.bonus\n",
        "\n"
      ],
      "metadata": {
        "id": "3PhJ7mZKVrO4"
      },
      "execution_count": null,
      "outputs": []
    },
    {
      "cell_type": "code",
      "source": [
        "m = Manager(40,50,2000)\n",
        "print(m.calculate_salary())"
      ],
      "metadata": {
        "colab": {
          "base_uri": "https://localhost:8080/"
        },
        "id": "3lRqKIHHWQiF",
        "outputId": "0922fdf0-af4a-4ec8-ec2c-b215b5fdb344"
      },
      "execution_count": null,
      "outputs": [
        {
          "output_type": "stream",
          "name": "stdout",
          "text": [
            "4000\n"
          ]
        }
      ]
    },
    {
      "cell_type": "code",
      "source": [
        "#15. Create a class Product with attributes name, price, and quantity. Implement a method total_price() that\n",
        "#calculates the total price of the product.\n",
        "\n",
        "class Product:\n",
        "  def __init__(self, name, price, quantity):\n",
        "    self.name = name\n",
        "    self.price = price\n",
        "    self.quantity = quantity\n",
        "\n",
        "  def total_price(self):\n",
        "    return self.price * self.quantity"
      ],
      "metadata": {
        "id": "LPYQcawuWdBf"
      },
      "execution_count": null,
      "outputs": []
    },
    {
      "cell_type": "code",
      "source": [
        "p = Product(\"Mobile\", 10000, 2)\n",
        "print(p.total_price())"
      ],
      "metadata": {
        "colab": {
          "base_uri": "https://localhost:8080/"
        },
        "id": "s1YP02A1ZqS5",
        "outputId": "f2d22f45-048b-4101-be55-834c845656e5"
      },
      "execution_count": null,
      "outputs": [
        {
          "output_type": "stream",
          "name": "stdout",
          "text": [
            "20000\n"
          ]
        }
      ]
    },
    {
      "cell_type": "code",
      "source": [
        "#16.Create a class Animal with an abstract method sound(). Create two derived classes Cow and Sheep that implement the sound() method\n",
        "\n",
        "from abc import ABC, abstractmethod\n",
        "\n",
        "class Animal(ABC):\n",
        "  def sound(self):\n",
        "    pass\n",
        "\n",
        "class Cow(Animal):\n",
        "  def sound(self):\n",
        "    print(\"Moo\")\n",
        "\n",
        "class Sheep(Animal):\n",
        "  def sound(self):\n",
        "    print(\"Baa\")\n"
      ],
      "metadata": {
        "id": "zVcx4s2ZaEXK"
      },
      "execution_count": null,
      "outputs": []
    },
    {
      "cell_type": "code",
      "source": [
        "a = Animal()\n",
        "c = Cow()\n",
        "s = Sheep()\n",
        "a.sound()\n",
        "c.sound()\n",
        "s.sound()"
      ],
      "metadata": {
        "colab": {
          "base_uri": "https://localhost:8080/"
        },
        "id": "rSKPsSs1aXuj",
        "outputId": "2ee0f023-2ecd-41cb-f3b7-9520d6a7654d"
      },
      "execution_count": null,
      "outputs": [
        {
          "output_type": "stream",
          "name": "stdout",
          "text": [
            "Moo\n",
            "Baa\n"
          ]
        }
      ]
    },
    {
      "cell_type": "code",
      "source": [
        "# 17.Create a class Book with attributes title, author, and year_published. Add a method get_book_info() that\n",
        "# returns a formatted string with the book's details\n",
        "\n",
        "class Book:\n",
        "  def __init__(self, title, author, year_published):\n",
        "    self.title = title\n",
        "    self.author = author\n",
        "    self.year_published = year_published\n",
        "\n",
        "  def get_book_info(self):\n",
        "    return f\"Title: {self.title} Author: {self.author} Year: {self.year_published}\""
      ],
      "metadata": {
        "id": "K2iOHmfFaf-V"
      },
      "execution_count": null,
      "outputs": []
    },
    {
      "cell_type": "code",
      "source": [
        "b1 = Book(\"Python Baiscs\", \"PwSkills\", 2025)\n",
        "print(b1.get_book_info())"
      ],
      "metadata": {
        "colab": {
          "base_uri": "https://localhost:8080/"
        },
        "id": "COUBoB8wawa8",
        "outputId": "14041d09-a4bb-4231-a47a-23ee03632602"
      },
      "execution_count": null,
      "outputs": [
        {
          "output_type": "stream",
          "name": "stdout",
          "text": [
            "Title: Python Baiscs Author: PwSkills Year: 2025\n"
          ]
        }
      ]
    },
    {
      "cell_type": "code",
      "source": [
        "# 18. Create a class House with attributes address and price. Create a derived class Mansion that adds an attribute number_of_rooms\n",
        "\n",
        "class House:\n",
        "  def __init__(self, address, price):\n",
        "    self.address = address\n",
        "    self.price = price\n",
        "\n",
        "class Mansion(House):\n",
        "  def __init__(self, address, price, rooms):\n",
        "    super().__init__(address, price)\n",
        "    self.rooms = rooms"
      ],
      "metadata": {
        "id": "UDaYpJU2bJyz"
      },
      "execution_count": null,
      "outputs": []
    },
    {
      "cell_type": "code",
      "source": [
        "m = Mansion(\"Bangalore\", 50000000, 20)\n",
        "print(m.address)\n",
        "print(m.price)\n",
        "print(m.rooms)"
      ],
      "metadata": {
        "colab": {
          "base_uri": "https://localhost:8080/"
        },
        "id": "bYxyRXpBb_nb",
        "outputId": "117f5784-edb9-429b-e67c-58bed7e83e6f"
      },
      "execution_count": null,
      "outputs": [
        {
          "output_type": "stream",
          "name": "stdout",
          "text": [
            "Bangalore\n",
            "50000000\n",
            "20\n"
          ]
        }
      ]
    }
  ]
}