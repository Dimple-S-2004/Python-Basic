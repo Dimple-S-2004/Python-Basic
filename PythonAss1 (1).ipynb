{
 "cells": [
  {
   "cell_type": "raw",
   "id": "a134ae46-64da-417a-ab7f-49e3dc3d07d5",
   "metadata": {},
   "source": [
    "                                                 PRACTICAL QUESTIONS\n",
    "#1.Write a Python program to print \"Hello, World!\""
   ]
  },
  {
   "cell_type": "code",
   "execution_count": 2,
   "id": "07d433bb-02a1-4433-b793-f336e388060e",
   "metadata": {},
   "outputs": [
    {
     "name": "stdout",
     "output_type": "stream",
     "text": [
      "Hello,World!\n"
     ]
    }
   ],
   "source": [
    "print(\"Hello,World!\")"
   ]
  },
  {
   "cell_type": "code",
   "execution_count": 3,
   "id": "437141c2-f689-415a-972e-98c5d292c82c",
   "metadata": {},
   "outputs": [],
   "source": [
    "#2.Write a Python program that displays your name and age"
   ]
  },
  {
   "cell_type": "code",
   "execution_count": 1,
   "id": "61548946-2d79-44c2-8616-a9b817643d5e",
   "metadata": {},
   "outputs": [
    {
     "name": "stdout",
     "output_type": "stream",
     "text": [
      "Name: Dimple\n",
      "Age: 21\n"
     ]
    }
   ],
   "source": [
    "name = \"Dimple\"\n",
    "age = 21\n",
    "print(\"Name:\",name)\n",
    "print(\"Age:\",age)"
   ]
  },
  {
   "cell_type": "code",
   "execution_count": 6,
   "id": "e475b983-3d47-45fa-b3db-e82752da3ed9",
   "metadata": {},
   "outputs": [],
   "source": [
    " #3.Write code to print all the pre-defined keywords in Python using the keyword library"
   ]
  },
  {
   "cell_type": "code",
   "execution_count": 10,
   "id": "4290228d-bc0c-4273-be37-b1fa114bb364",
   "metadata": {},
   "outputs": [
    {
     "name": "stdout",
     "output_type": "stream",
     "text": [
      "\n",
      "Here is a list of the Python keywords.  Enter any keyword to get more help.\n",
      "\n",
      "False               class               from                or\n",
      "None                continue            global              pass\n",
      "True                def                 if                  raise\n",
      "and                 del                 import              return\n",
      "as                  elif                in                  try\n",
      "assert              else                is                  while\n",
      "async               except              lambda              with\n",
      "await               finally             nonlocal            yield\n",
      "break               for                 not                 \n",
      "\n"
     ]
    }
   ],
   "source": [
    "help(\"keywords\")"
   ]
  },
  {
   "cell_type": "code",
   "execution_count": 4,
   "id": "6333aeee-5101-4b5b-b575-201bc955151e",
   "metadata": {},
   "outputs": [
    {
     "name": "stdin",
     "output_type": "stream",
     "text": [
      "Enter a word: pritn\n"
     ]
    },
    {
     "name": "stdout",
     "output_type": "stream",
     "text": [
      "Word is not keyword\n"
     ]
    }
   ],
   "source": [
    "# 4.Write a program that checks if a given word is a Python keyword.\n",
    "import keyword\n",
    "\n",
    "word = input(\"Enter a word:\")\n",
    "if word in keyword.kwlist:\n",
    "    print(\"Word is keyword\")\n",
    "else:\n",
    "    print(\"Word is not keyword\")"
   ]
  },
  {
   "cell_type": "code",
   "execution_count": 9,
   "id": "5733dddf-6819-4b08-bf6d-5df9b3357bb0",
   "metadata": {},
   "outputs": [
    {
     "name": "stdout",
     "output_type": "stream",
     "text": [
      "Orginial list: [1, 2, 3, 4, 5]\n",
      "After adding new element: [0, 2, 3, 4, 5]\n",
      "Original tuple: (10, 20, 30, 40)\n"
     ]
    },
    {
     "ename": "AttributeError",
     "evalue": "'tuple' object has no attribute 'insert'",
     "output_type": "error",
     "traceback": [
      "\u001b[31m---------------------------------------------------------------------------\u001b[39m",
      "\u001b[31mAttributeError\u001b[39m                            Traceback (most recent call last)",
      "\u001b[36mCell\u001b[39m\u001b[36m \u001b[39m\u001b[32mIn[9]\u001b[39m\u001b[32m, line 12\u001b[39m\n\u001b[32m      9\u001b[39m my_tuple = (\u001b[32m10\u001b[39m,\u001b[32m20\u001b[39m,\u001b[32m30\u001b[39m,\u001b[32m40\u001b[39m) \u001b[38;5;66;03m#tuple creating\u001b[39;00m\n\u001b[32m     10\u001b[39m \u001b[38;5;28mprint\u001b[39m(\u001b[33m\"\u001b[39m\u001b[33mOriginal tuple:\u001b[39m\u001b[33m\"\u001b[39m,my_tuple)\n\u001b[32m---> \u001b[39m\u001b[32m12\u001b[39m \u001b[43mmy_tuple\u001b[49m\u001b[43m.\u001b[49m\u001b[43minsert\u001b[49m(\u001b[32m0\u001b[39m,\u001b[32m0\u001b[39m) \u001b[38;5;66;03m#adding new element \u001b[39;00m\n\u001b[32m     13\u001b[39m \u001b[38;5;28mprint\u001b[39m(\u001b[33m\"\u001b[39m\u001b[33mAfter adding new element:\u001b[39m\u001b[33m\"\u001b[39m,my_tuple)\n",
      "\u001b[31mAttributeError\u001b[39m: 'tuple' object has no attribute 'insert'"
     ]
    }
   ],
   "source": [
    "#5. Create a list and tuple in Python, and demonstrate how attempting to change an element works differently for each.\n",
    "\n",
    "my_list = [1,2,3,4,5] #list creating \n",
    "print(\"Orginial list:\",my_list)\n",
    "\n",
    "my_list[0] = 0 #add new element\n",
    "print(\"After adding new element:\",my_list)\n",
    "\n",
    "my_tuple = (10,20,30,40) #tuple creating\n",
    "print(\"Original tuple:\",my_tuple)\n",
    "\n",
    "my_tuple.insert(0,0) #adding new element \n",
    "print(\"After adding new element:\",my_tuple)"
   ]
  },
  {
   "cell_type": "code",
   "execution_count": 13,
   "id": "d773c908-3627-47ea-9859-700ab8d7b7a3",
   "metadata": {},
   "outputs": [
    {
     "name": "stdout",
     "output_type": "stream",
     "text": [
      "list after function call: [1, 2, 3, 100]\n",
      "Number after function call: 50\n"
     ]
    }
   ],
   "source": [
    "#  6. Write a function to demonstrate the behavior of mutable and immutable arguments\n",
    "def modify_list(lst):\n",
    "    lst.append(100) #modifies original list\n",
    "    \n",
    "def modify_number(num):\n",
    "     num += 10 # creates a new number, doesn't change original \n",
    "\n",
    "my_list = [1,2,3]\n",
    "my_num = 50\n",
    "\n",
    "modify_list(my_list)\n",
    "modify_number(my_num)\n",
    "\n",
    "print(\"list after function call:\",my_list)\n",
    "print(\"Number after function call:\",my_num)"
   ]
  },
  {
   "cell_type": "code",
   "execution_count": 14,
   "id": "4235a818-d270-4614-8105-4b38f811e56c",
   "metadata": {},
   "outputs": [
    {
     "name": "stdin",
     "output_type": "stream",
     "text": [
      "Enter first number: 10\n",
      "Enter second number: 2\n"
     ]
    },
    {
     "name": "stdout",
     "output_type": "stream",
     "text": [
      "Addition: 12\n",
      "Subtract: 8\n",
      "Multiply: 20\n",
      "Division: 5.0\n",
      "Modules: 5\n"
     ]
    }
   ],
   "source": [
    "#  7. Write a program that performs basic arithmetic operations on two user-input numbers.\n",
    "\n",
    "a = int(input(\"Enter first number:\"))\n",
    "b = int(input(\"Enter second number:\"))\n",
    "\n",
    "print(\"Addition:\",a+b)\n",
    "print(\"Subtract:\",a-b)\n",
    "print(\"Multiply:\",a*b)\n",
    "print(\"Division:\",a/b)\n",
    "print(\"Modules:\",a//b)"
   ]
  },
  {
   "cell_type": "code",
   "execution_count": 15,
   "id": "3c5354e0-d700-4619-ba24-33588238c913",
   "metadata": {},
   "outputs": [
    {
     "name": "stdout",
     "output_type": "stream",
     "text": [
      "x and y: False\n",
      "x or y: True\n",
      "Not x: False\n"
     ]
    }
   ],
   "source": [
    "#  8. Write a program to demonstrate the use of logical operators.\n",
    "\n",
    "x = True\n",
    "y = False\n",
    "\n",
    "print(\"x and y:\",x and y)\n",
    "print(\"x or y:\", x or y)\n",
    "print(\"Not x:\", not x)"
   ]
  },
  {
   "cell_type": "code",
   "execution_count": 21,
   "id": "86915f26-2a87-47a6-9086-da0dd6c7a284",
   "metadata": {},
   "outputs": [
    {
     "name": "stdin",
     "output_type": "stream",
     "text": [
      "Enter a value: 100\n"
     ]
    },
    {
     "name": "stdout",
     "output_type": "stream",
     "text": [
      "Integer: 100\n",
      "Float: 100.0\n",
      "Boolean: True\n",
      "String: 100\n"
     ]
    }
   ],
   "source": [
    "# 9. Write a Python program to convert user input from string to integer, float, and boolean types.\n",
    "\n",
    "user_input = input(\"Enter a value:\")\n",
    "\n",
    "as_int = int(user_input)\n",
    "as_float = float(user_input)\n",
    "as_bool = bool(user_input)\n",
    "as_str = str(user_input)\n",
    "\n",
    "print(\"Integer:\",as_int)\n",
    "print(\"Float:\",as_float)\n",
    "print(\"Boolean:\",as_bool)\n",
    "print(\"String:\",as_str)"
   ]
  },
  {
   "cell_type": "code",
   "execution_count": 22,
   "id": "c1c30ae2-e468-4456-9194-17357a69a352",
   "metadata": {},
   "outputs": [
    {
     "name": "stdout",
     "output_type": "stream",
     "text": [
      "List: ['1', '2', '3', '4']\n",
      "After typecasting: [1, 2, 3, 4]\n"
     ]
    }
   ],
   "source": [
    "#  10. Write code to demonstrate type casting with list elements\n",
    "\n",
    "my_list = [\"1\", \"2\",\"3\",\"4\"]\n",
    "int_list = [int(i) for i in my_list]\n",
    "\n",
    "print(\"List:\",my_list)\n",
    "print(\"After typecasting:\", int_list)"
   ]
  },
  {
   "cell_type": "code",
   "execution_count": 23,
   "id": "5c74b2c2-4bb9-41e8-bbdd-c0100d8890a5",
   "metadata": {},
   "outputs": [
    {
     "name": "stdin",
     "output_type": "stream",
     "text": [
      "Enter a number: 10\n"
     ]
    },
    {
     "name": "stdout",
     "output_type": "stream",
     "text": [
      "Number is Positive\n"
     ]
    }
   ],
   "source": [
    "#11. Write a program that checks if a number is positive, negative, or zero\n",
    "\n",
    "num = int(input(\"Enter a number:\"))\n",
    "\n",
    "if num > 0:\n",
    "    print(\"Number is Positive\")\n",
    "elif num < 0:\n",
    "    print(\"Number is Negative\")\n",
    "else:\n",
    "    print(\"Number is Zero\")"
   ]
  },
  {
   "cell_type": "code",
   "execution_count": 24,
   "id": "a63d23b2-86eb-40b2-b8b1-b1e6475ae2cf",
   "metadata": {},
   "outputs": [
    {
     "name": "stdout",
     "output_type": "stream",
     "text": [
      "1\n",
      "2\n",
      "3\n",
      "4\n",
      "5\n",
      "6\n",
      "7\n",
      "8\n",
      "9\n",
      "10\n"
     ]
    }
   ],
   "source": [
    "# 12. Write a for loop to print numbers from 1 to 10.\n",
    "\n",
    "for i in range(1,11):\n",
    "    print(i)"
   ]
  },
  {
   "cell_type": "code",
   "execution_count": 29,
   "id": "dcd0e5bb-aea4-4b66-8edc-4cd69e90d994",
   "metadata": {},
   "outputs": [
    {
     "name": "stdout",
     "output_type": "stream",
     "text": [
      "Sum of even numbers between 1 and 50: 2\n",
      "Sum of even numbers between 1 and 50: 6\n",
      "Sum of even numbers between 1 and 50: 12\n",
      "Sum of even numbers between 1 and 50: 20\n",
      "Sum of even numbers between 1 and 50: 30\n",
      "Sum of even numbers between 1 and 50: 42\n",
      "Sum of even numbers between 1 and 50: 56\n",
      "Sum of even numbers between 1 and 50: 72\n",
      "Sum of even numbers between 1 and 50: 90\n",
      "Sum of even numbers between 1 and 50: 110\n",
      "Sum of even numbers between 1 and 50: 132\n",
      "Sum of even numbers between 1 and 50: 156\n",
      "Sum of even numbers between 1 and 50: 182\n",
      "Sum of even numbers between 1 and 50: 210\n",
      "Sum of even numbers between 1 and 50: 240\n",
      "Sum of even numbers between 1 and 50: 272\n",
      "Sum of even numbers between 1 and 50: 306\n",
      "Sum of even numbers between 1 and 50: 342\n",
      "Sum of even numbers between 1 and 50: 380\n",
      "Sum of even numbers between 1 and 50: 420\n",
      "Sum of even numbers between 1 and 50: 462\n",
      "Sum of even numbers between 1 and 50: 506\n",
      "Sum of even numbers between 1 and 50: 552\n",
      "Sum of even numbers between 1 and 50: 600\n",
      "Sum of even numbers between 1 and 50: 650\n"
     ]
    }
   ],
   "source": [
    "#13. Write a Python program to find the sum of all even numbers between 1 and 50.\n",
    "\n",
    "num = 0\n",
    "for i in range(2,51,2):\n",
    "    num += i\n",
    "    print(\"Sum of even numbers between 1 and 50:\", num)"
   ]
  },
  {
   "cell_type": "code",
   "execution_count": 30,
   "id": "60bc4bbd-4b5a-4637-9e81-41269459ce19",
   "metadata": {},
   "outputs": [
    {
     "name": "stdin",
     "output_type": "stream",
     "text": [
      "Enter a string: Dimple\n"
     ]
    },
    {
     "name": "stdout",
     "output_type": "stream",
     "text": [
      "Reversed String: e\n",
      "Reversed String: el\n",
      "Reversed String: elp\n",
      "Reversed String: elpm\n",
      "Reversed String: elpmi\n",
      "Reversed String: elpmiD\n"
     ]
    }
   ],
   "source": [
    "#14. Write a program to reverse a string using a while loop.\n",
    "s = input(\"Enter a string:\")\n",
    "reversed_str = \"\"\n",
    "i = len(s) -1\n",
    "\n",
    "while i >=0:\n",
    "    reversed_str += s[i]\n",
    "    i -= 1\n",
    "    print(\"Reversed String:\",reversed_str)"
   ]
  },
  {
   "cell_type": "code",
   "execution_count": 34,
   "id": "7679bceb-fef6-4a26-8b5c-8a21f148a817",
   "metadata": {},
   "outputs": [
    {
     "name": "stdin",
     "output_type": "stream",
     "text": [
      "Enter a number: 3\n"
     ]
    },
    {
     "name": "stdout",
     "output_type": "stream",
     "text": [
      "Factorial of 3 is 1\n",
      "Factorial of 3 is 2\n",
      "Factorial of 3 is 6\n"
     ]
    }
   ],
   "source": [
    "#15. Write a Python program to calculate the factorial of a number provided by the user using a while loop.\n",
    "num = int(input(\"Enter a number:\"))\n",
    "fact = 1\n",
    "i = 1\n",
    "\n",
    "while i<= num:\n",
    "    fact *= i\n",
    "    i +=1\n",
    "    print(\"Factorial of\",num,\"is\",fact)"
   ]
  },
  {
   "cell_type": "raw",
   "id": "36619669-2c5c-46a6-9067-91e950e976bc",
   "metadata": {},
   "source": [
    "                                                BASIC QUESTIONS:\n",
    "1.What is Python, and why is it popular?\n",
    "  -->Python is a high-level, interpreted, object-oriented programming language.It's popular because it's easy to learn ,has simple syntax,\n",
    "     supports multiple libraries, and is widely usen in Web-Development,Data Science, AI and Automation.\n",
    "\n",
    "2.What is an interpreter in Python?\n",
    "  -->The interpreter is a program that executes Python code line by line. It converts Python code into machine understandable instructions directly,        without needing comiplation.\n",
    "\n",
    "3.What are pre-defined keywords in Python?\n",
    "  -->Keywords are reserved words in Python that have special meaning and purpose.Eg: if, true, else,while,True,False....\n",
    "\n",
    "4.Can keyword be used as variable names?\n",
    " -->No. keywords are reserved by Python, so they cannot be used as ideetifiers"
   ]
  }
 ],
 "metadata": {
  "kernelspec": {
   "display_name": "Python 3 (ipykernel)",
   "language": "python",
   "name": "python3"
  },
  "language_info": {
   "codemirror_mode": {
    "name": "ipython",
    "version": 3
   },
   "file_extension": ".py",
   "mimetype": "text/x-python",
   "name": "python",
   "nbconvert_exporter": "python",
   "pygments_lexer": "ipython3",
   "version": "3.13.7"
  }
 },
 "nbformat": 4,
 "nbformat_minor": 5
}
