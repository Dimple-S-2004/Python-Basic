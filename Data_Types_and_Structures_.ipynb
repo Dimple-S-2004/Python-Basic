{
  "nbformat": 4,
  "nbformat_minor": 0,
  "metadata": {
    "colab": {
      "provenance": []
    },
    "kernelspec": {
      "name": "python3",
      "display_name": "Python 3"
    },
    "language_info": {
      "name": "python"
    }
  },
  "cells": [
    {
      "cell_type": "markdown",
      "source": [
        "**Data Type and Structure**"
      ],
      "metadata": {
        "id": "_4B81XdfD_SO"
      }
    },
    {
      "cell_type": "markdown",
      "source": [
        "1. What are data structures, and why are they important?\n",
        "  \n",
        "⊵ A data structure is a way of organizing and storing data in a computer so it can be used efficiently.\n",
        "Importance: They help in faster data access, better memory usage, and solving problems efficiently(eg searching, sorting, managing large data)\n",
        "\n",
        "----\n",
        "2.Explain the difference between mutable and immutable data types with examples.\n",
        "\n",
        "⊵ Definition:\n",
        "\n",
        "Mutable: Values can be changed after creation.\n",
        "\n",
        "Immutable: Values cannot be changed once created.\n",
        "\n",
        "Examples\n",
        "\n",
        "Mutable: list, dict, set\n",
        "\n",
        "Immutable: int, float, str, tuple\n",
        "\n",
        "Memory Behavior\n",
        "\n",
        "Mutable: Same memory location is updated.\n",
        "\n",
        "Immutable: A new object is created for every change.\n",
        "\n",
        "Use Cases\n",
        "\n",
        "Mutable: Useful when data needs frequent updates.\n",
        "\n",
        "Immutable: Useful when data must remain constant (e.g., dictionary keys).\n",
        "\n",
        "----\n",
        "3. What are the main differences between Lists and Tuples in Python?\n",
        "\n",
        "⊵Mutability: Lists are mutable (can be changed), Tuples are immutable (cannot be changed).\n",
        "\n",
        "Syntax: Lists use square brackets [ ], Tuples use parentheses ( ).\n",
        "\n",
        "Performance: Tuples are faster and use less memory compared to lists.\n",
        "\n",
        "Use case: Lists are used for dynamic data, Tuples are used for fixed data.\n",
        "\n",
        "----\n",
        "4.Describe how dictionaries store data.\n",
        "\n",
        "⊵ Dictionaries store data as key-value pairs.\n",
        "\n",
        "Internally, they use a hash table where the key is hashed to quickly find its value.\n",
        "Keys must be unique and immutable (str, int, tuple etc.).\n",
        "\n",
        "Values can be any data type, mutable or immutable.\n",
        "\n",
        "---\n",
        "5.Why use a Set instead of a List in Python?\n",
        "\n",
        "⊵Sets store only unique elements (no duplicates allowed).\n",
        "\n",
        "Membership tests (in operation) are faster in sets (because of hashing).\n",
        "\n",
        "Useful when order doesn’t matter but uniqueness and speed are important.\n",
        "\n",
        "Example: Removing duplicates from a list.\n",
        "\n",
        "----\n",
        "6.What is a String in Python, and how is it different from a List?\n",
        "\n",
        "⊵ A string is a sequence of characters enclosed in quotes (\" \" or ' ').\n",
        "\n",
        "Strings are immutable, whereas lists are mutable.\n",
        "\n",
        "Strings store characters only, while lists can store different data types.\n",
        "\n",
        "Example:\n",
        "\n",
        "s = \"hello\"   # string\n",
        "\n",
        "l = [\"h\",\"e\",\"l\",\"l\",\"o\"]   # list\n",
        "\n",
        "---\n",
        "7.How Tuples ensure data integrity in Python?\n",
        "\n",
        "⊵ Tuples are immutable, so once created, their elements cannot be changed.\n",
        "\n",
        "This prevents accidental modification of data.\n",
        "\n",
        "Used when data must stay fixed (e.g., geographic coordinates, database records).\n",
        "\n",
        "Their immutability ensures consistency and reliability.\n",
        "\n",
        "----\n",
        "8.What is a Hash Table, and how does it relate to Dictionaries in Python?\n",
        "\n",
        "⊵ A hash table is a data structure that maps keys to values using a hashing function.\n",
        "\n",
        "It provides fast lookups, insertions, and deletions (average O(1) time).\n",
        "\n",
        "In Python, dictionaries are implemented using hash tables.\n",
        "\n",
        "That’s why dictionary keys must be hashable (immutable).\n",
        "\n",
        "----\n",
        "9.Can lists contain different data types in Python?\n",
        "\n",
        "⊵ Yes, lists can store elements of different data types in the same list.\n",
        "Example:\n",
        "\n",
        "my_list = [1, \"hello\", 3.14, True]\n",
        "\n",
        "----\n",
        "10.Explain why strings are immutable in Python.\n",
        "\n",
        "⊵ Strings are immutable because once created, their memory location cannot be altered.\n",
        "\n",
        "Any modification creates a new string object instead of changing the original.\n",
        "\n",
        "This improves security, efficiency, and reliability in programs.\n",
        "\n",
        "---\n",
        "11.What advantages do dictionaries offer over lists for certain tasks?\n",
        "\n",
        "⊵ Fast lookups using keys (O(1) time on average).\n",
        "\n",
        "Store data in key–value pairs instead of only sequential items.\n",
        "\n",
        "Useful for mapping relationships (e.g., student roll no → marks).\n",
        "\n",
        "-----\n",
        "12.How do sets handle duplicate values in Python?\n",
        "\n",
        "⊵ Sets automatically remove duplicates.\n",
        "\n",
        "If a duplicate element is added, it is ignored.\n",
        "\n",
        "s = {1, 2, 2, 3}\n",
        "print(s)   # {1, 2, 3}\n",
        "\n",
        "----\n",
        "13.Describe a scenario where using a tuple would be preferable over a list.\n",
        "\n",
        "⊵ When data should remain constant and unmodified.\n",
        "\n",
        "Example: Storing geographic coordinates (27.7, 85.3) or days of the week.\n",
        "\n",
        "---\n",
        "\n",
        "14.How does the “in” keyword work differently for lists and dictionaries?\n",
        "\n",
        "⊵ List: Checks if the value exists in the list.\n",
        "\n",
        "[10, 20, 30];  20 in list → True\n",
        "\n",
        "\n",
        "Dictionary: Checks only the keys, not values.\n",
        "\n",
        "{\"a\":1, \"b\":2};  \"a\" in dict → True\n",
        "\n",
        "----\n",
        "\n",
        "15.Can you modify the elements of a tuple? Explain why or why not.\n",
        "\n",
        "⊵ No, you cannot modify a tuple because it is immutable.\n",
        "\n",
        "Once created, elements are fixed to ensure data integrity.\n",
        "\n",
        "---\n",
        "\n",
        "16.What is a nested dictionary, and give an example of its use case.\n",
        "\n",
        "⊵ A nested dictionary is a dictionary inside another dictionary.\n",
        "\n",
        "Used to represent hierarchical data (like JSON).\n",
        "\n",
        "students = {\n",
        "    \"101\": {\"name\": \"Alice\", \"marks\": 85},\n",
        "    \"102\": {\"name\": \"Bob\", \"marks\": 90}\n",
        "}\n",
        "\n",
        "---\n",
        "\n",
        "17.Describe the time complexity of accessing elements in a dictionary.\n",
        "\n",
        "⊵ Average case: O(1) (constant time) using hash table.\n",
        "\n",
        "Worst case: O(n) if many collisions occur.\n",
        "\n",
        "---\n",
        "18.In what situations are lists preferred over dictionaries?\n",
        "\n",
        "⊵ When order matters (lists maintain order).\n",
        "\n",
        "When data doesn’t need a key-value relationship.\n",
        "\n",
        "For sequential tasks like storing numbers, iterating, or sorting.\n",
        "\n",
        "---\n",
        "\n",
        "19.Why are dictionaries considered unordered, and how does that affect data retrieval?\n",
        "\n",
        "⊵ Dictionaries are based on hash tables, so items are stored based on hash values, not sequence.\n",
        "\n",
        "You cannot access values by index like in lists.\n",
        "\n",
        "Data is retrieved by keys, not by order. (Since Python 3.7+, dictionaries maintain insertion order, but conceptually they are key-based, not index-based.)\n",
        "\n",
        "----\n",
        "\n",
        "20. Explain the difference between a list and a dictionary in terms of data retrieval.\n",
        "\n",
        "⊵ List: Data retrieved by index (position-based).\n",
        "Example: my_list[0]\n",
        "\n",
        "Dictionary: Data retrieved by key (mapping-based).\n",
        "Example: my_dict[\"name\"]\n",
        "\n",
        "----\n",
        "\n",
        "\n",
        "\n"
      ],
      "metadata": {
        "id": "jW8vQrSjEPsA"
      }
    },
    {
      "cell_type": "code",
      "source": [
        "# Practical Questions\n",
        "#1. Create a string with your name and print it\n",
        "name = \"Dimple\"\n",
        "print(name)"
      ],
      "metadata": {
        "colab": {
          "base_uri": "https://localhost:8080/"
        },
        "id": "JIKVrOeCMWy7",
        "outputId": "21d95537-aea5-4b72-810f-ca20abe1210a"
      },
      "execution_count": 1,
      "outputs": [
        {
          "output_type": "stream",
          "name": "stdout",
          "text": [
            "Dimple\n"
          ]
        }
      ]
    },
    {
      "cell_type": "code",
      "source": [
        "# 2. Find the length  of string \"Hello World\"\n",
        "text = \"Hello World\"\n",
        "print(len(text))"
      ],
      "metadata": {
        "colab": {
          "base_uri": "https://localhost:8080/"
        },
        "id": "fXPmG1JSNZaz",
        "outputId": "069e5500-ce1d-4a91-8aac-9f42e23e8804"
      },
      "execution_count": 2,
      "outputs": [
        {
          "output_type": "stream",
          "name": "stdout",
          "text": [
            "11\n"
          ]
        }
      ]
    },
    {
      "cell_type": "code",
      "source": [
        "# 3. Slice the first 3 characters from the string \"Python Programming\"\n",
        "s = \"Python Programming\"\n",
        "print(s[:3])"
      ],
      "metadata": {
        "colab": {
          "base_uri": "https://localhost:8080/"
        },
        "id": "t3BGGZvWNpnP",
        "outputId": "0bb7bda8-cd68-41cd-f20e-a25d8f2e98a0"
      },
      "execution_count": 4,
      "outputs": [
        {
          "output_type": "stream",
          "name": "stdout",
          "text": [
            "Pyt\n"
          ]
        }
      ]
    },
    {
      "cell_type": "code",
      "source": [
        "# 4. Convert the string \"hello\" to uppercasee\n",
        "s =\"hello\"\n",
        "print(s.upper())"
      ],
      "metadata": {
        "colab": {
          "base_uri": "https://localhost:8080/"
        },
        "id": "XvTPZj6UOBGn",
        "outputId": "375efaaa-045f-44b9-d41f-b307a43a09bd"
      },
      "execution_count": 5,
      "outputs": [
        {
          "output_type": "stream",
          "name": "stdout",
          "text": [
            "HELLO\n"
          ]
        }
      ]
    },
    {
      "cell_type": "code",
      "source": [
        "# 5.Replace the word \"apple\" with \"orange\"\n",
        "s = \"My Favorite fruit is apple\"\n",
        "print(s.replace(\"apple\",\"orange\"))\n"
      ],
      "metadata": {
        "colab": {
          "base_uri": "https://localhost:8080/"
        },
        "id": "6P4awDRqOMqA",
        "outputId": "8a231b20-5b79-49fd-d8fc-fe5accf6e79c"
      },
      "execution_count": 7,
      "outputs": [
        {
          "output_type": "stream",
          "name": "stdout",
          "text": [
            "My Favorite fruit is orange\n"
          ]
        }
      ]
    },
    {
      "cell_type": "code",
      "source": [
        "#6.Create a list with numbers 1 to 5 and print it\n",
        "lst = [1,2,3,4,5]\n",
        "print(lst)"
      ],
      "metadata": {
        "colab": {
          "base_uri": "https://localhost:8080/"
        },
        "id": "EO7ImL2EO4E_",
        "outputId": "b9aa8ed7-bf4d-4a40-982d-7badbcd9bdda"
      },
      "execution_count": 8,
      "outputs": [
        {
          "output_type": "stream",
          "name": "stdout",
          "text": [
            "[1, 2, 3, 4, 5]\n"
          ]
        }
      ]
    },
    {
      "cell_type": "code",
      "source": [
        "#7.Append the number 10 to the list[1,2,3,4]\n",
        "lst = [1,2,3,4]\n",
        "lst.append(10)\n",
        "print(lst)\n"
      ],
      "metadata": {
        "colab": {
          "base_uri": "https://localhost:8080/"
        },
        "id": "1wrqMs1NPE9n",
        "outputId": "06f8e3e8-aff1-45ed-f21d-e25098211168"
      },
      "execution_count": 9,
      "outputs": [
        {
          "output_type": "stream",
          "name": "stdout",
          "text": [
            "[1, 2, 3, 4, 10]\n"
          ]
        }
      ]
    },
    {
      "cell_type": "code",
      "source": [
        "#8.Remove the number 3 from the list[1,2,3,4,5]\n",
        "lst = [1,2,3,4,5]\n",
        "lst.remove(3)\n",
        "print(lst)\n"
      ],
      "metadata": {
        "colab": {
          "base_uri": "https://localhost:8080/"
        },
        "id": "jtxLc_07PU_x",
        "outputId": "e88c6615-1784-43ca-f0bf-fefe9bc930af"
      },
      "execution_count": 10,
      "outputs": [
        {
          "output_type": "stream",
          "name": "stdout",
          "text": [
            "[1, 2, 4, 5]\n"
          ]
        }
      ]
    },
    {
      "cell_type": "code",
      "source": [
        "#9. Access the second element in the list['a','b','c','d']\n",
        "l = [\"a\",\"b\",\"c\",\"d\"]\n",
        "print(l[1])\n"
      ],
      "metadata": {
        "colab": {
          "base_uri": "https://localhost:8080/"
        },
        "id": "L_2OvcaxPllP",
        "outputId": "d2bd6b57-f384-4760-a36b-bfd29607240c"
      },
      "execution_count": 11,
      "outputs": [
        {
          "output_type": "stream",
          "name": "stdout",
          "text": [
            "b\n"
          ]
        }
      ]
    },
    {
      "cell_type": "code",
      "source": [
        "#10. Reverse the list[10,20,30,40,50]\n",
        "l_1 = [10,20,30,40,50]\n",
        "l.reverse()\n",
        "print(l)"
      ],
      "metadata": {
        "colab": {
          "base_uri": "https://localhost:8080/"
        },
        "id": "FxsKrlTMP74S",
        "outputId": "f5a58243-a0ca-41a3-d573-faabf930e3ca"
      },
      "execution_count": 12,
      "outputs": [
        {
          "output_type": "stream",
          "name": "stdout",
          "text": [
            "['d', 'c', 'b', 'a']\n"
          ]
        }
      ]
    },
    {
      "cell_type": "code",
      "source": [
        "#11.Create a tuple with elements 100,200,300 and print it\n",
        "t = (100,200,300)\n",
        "print(t)"
      ],
      "metadata": {
        "colab": {
          "base_uri": "https://localhost:8080/"
        },
        "id": "YUteY9PMQP4T",
        "outputId": "f10b1606-2eaa-4c34-e5c5-6f2cdc855e28"
      },
      "execution_count": 13,
      "outputs": [
        {
          "output_type": "stream",
          "name": "stdout",
          "text": [
            "(100, 200, 300)\n"
          ]
        }
      ]
    },
    {
      "cell_type": "code",
      "source": [
        "#12.Access the second-to-last element of the tuple('red','green','blue','yellow')\n",
        "colors = ('red','green','blue','yellow')\n",
        "print(colors[-2])"
      ],
      "metadata": {
        "colab": {
          "base_uri": "https://localhost:8080/"
        },
        "id": "qhkQVkqKQe_U",
        "outputId": "258d4d3c-7fed-4895-8c67-6ad9171cee9c"
      },
      "execution_count": 14,
      "outputs": [
        {
          "output_type": "stream",
          "name": "stdout",
          "text": [
            "blue\n"
          ]
        }
      ]
    },
    {
      "cell_type": "code",
      "source": [
        "#13. Find the minimum number in the tuple(10,20,5,15)\n",
        "t = (10,20,5,15)\n",
        "print(min(t))"
      ],
      "metadata": {
        "colab": {
          "base_uri": "https://localhost:8080/"
        },
        "id": "-cQOd75-Q6Ab",
        "outputId": "1487e9bc-5ec2-4c79-ddb2-448c4d2c1dc2"
      },
      "execution_count": 16,
      "outputs": [
        {
          "output_type": "stream",
          "name": "stdout",
          "text": [
            "5\n"
          ]
        }
      ]
    },
    {
      "cell_type": "code",
      "source": [
        "#14.  Write a code to find the index of the element \"cat\" in the tuple ('dog', 'cat', 'rabbit').\n",
        "tup = (\"Dog\",\"Cat\",\"Rabbit\")\n",
        "print(tup.index(\"Cat\"))"
      ],
      "metadata": {
        "colab": {
          "base_uri": "https://localhost:8080/"
        },
        "id": "crI2DIUhRWGn",
        "outputId": "cd30cc54-9c40-4ec4-c1eb-419daccade4a"
      },
      "execution_count": 19,
      "outputs": [
        {
          "output_type": "stream",
          "name": "stdout",
          "text": [
            "1\n"
          ]
        }
      ]
    },
    {
      "cell_type": "code",
      "source": [
        "#15. Write a code to create a tuple containing three different fruits and check if \"kiwi\" is in it\n",
        "t = (\"Apple\",\"Banana\",\"Mango\")\n",
        "print(\"kiwi\" in t)"
      ],
      "metadata": {
        "colab": {
          "base_uri": "https://localhost:8080/"
        },
        "id": "6ws2D5n-RwjJ",
        "outputId": "6625644c-470d-41b7-c329-b610342e096f"
      },
      "execution_count": 21,
      "outputs": [
        {
          "output_type": "stream",
          "name": "stdout",
          "text": [
            "False\n"
          ]
        }
      ]
    },
    {
      "cell_type": "code",
      "source": [
        "# 16. Write a code to create a set with the elements 'a', 'b', 'c' and print it.\n",
        "set1 = {'a','b','c'}\n",
        "print(set1)"
      ],
      "metadata": {
        "colab": {
          "base_uri": "https://localhost:8080/"
        },
        "id": "vsUl4J5WStTD",
        "outputId": "5d253210-c8f1-424f-fbf7-5f34dbaadf54"
      },
      "execution_count": 22,
      "outputs": [
        {
          "output_type": "stream",
          "name": "stdout",
          "text": [
            "{'a', 'b', 'c'}\n"
          ]
        }
      ]
    },
    {
      "cell_type": "code",
      "source": [
        "#17. Write a code to clear all elements from the set {1, 2, 3, 4, 5}.\n",
        "s = {1, 2, 3, 4, 5}\n",
        "s.clear()\n",
        "print(s)"
      ],
      "metadata": {
        "colab": {
          "base_uri": "https://localhost:8080/"
        },
        "id": "HfwBKqaGS67W",
        "outputId": "e11b8a8b-b0df-42fd-ccb5-9fbcf54b9a21"
      },
      "execution_count": 23,
      "outputs": [
        {
          "output_type": "stream",
          "name": "stdout",
          "text": [
            "set()\n"
          ]
        }
      ]
    },
    {
      "cell_type": "code",
      "source": [
        "#18.Write a code to remove the element 4 from the set {1, 2, 3, 4}.\n",
        "s ={1, 2, 3, 4}\n",
        "s.remove(4)\n",
        "print(s)\n"
      ],
      "metadata": {
        "colab": {
          "base_uri": "https://localhost:8080/"
        },
        "id": "Lg1Oac1ATOPN",
        "outputId": "444ed887-64ba-4fec-cda9-45dfda47ea77"
      },
      "execution_count": 24,
      "outputs": [
        {
          "output_type": "stream",
          "name": "stdout",
          "text": [
            "{1, 2, 3}\n"
          ]
        }
      ]
    },
    {
      "cell_type": "code",
      "source": [
        "# 19.Write a code to find the union of two sets {1, 2, 3} and {3, 4, 5}.\n",
        "s1 = {1,2,3}\n",
        "s2 = {3,4,5}\n",
        "s3 = s1|s2\n",
        "print(s3)"
      ],
      "metadata": {
        "colab": {
          "base_uri": "https://localhost:8080/"
        },
        "id": "TCL9rQ9bTejM",
        "outputId": "771911c3-d85f-4f9c-9fe5-3ea6bf449f92"
      },
      "execution_count": 25,
      "outputs": [
        {
          "output_type": "stream",
          "name": "stdout",
          "text": [
            "{1, 2, 3, 4, 5}\n"
          ]
        }
      ]
    },
    {
      "cell_type": "code",
      "source": [
        "#20. Write a code to find the intersection of two sets {1, 2, 3} and {2, 3, 4}.\n",
        "s1 = {1,2,3}\n",
        "s2 = {2,3,4}\n",
        "s3 = s1&s2\n",
        "print(s3)"
      ],
      "metadata": {
        "colab": {
          "base_uri": "https://localhost:8080/"
        },
        "id": "t8mj-lLuT3HQ",
        "outputId": "c18abcf3-9eaa-46a1-ca3e-ce128c9ce673"
      },
      "execution_count": 26,
      "outputs": [
        {
          "output_type": "stream",
          "name": "stdout",
          "text": [
            "{2, 3}\n"
          ]
        }
      ]
    },
    {
      "cell_type": "code",
      "source": [
        "#21.Write a code to create a dictionary with the keys \"name\", \"age\", and \"city\", and print it.\n",
        "dict = {\"Name\":\"Dimple\" , \"Age\":20, \"City\":\"Bengaluru\"}\n",
        "print(dict)"
      ],
      "metadata": {
        "colab": {
          "base_uri": "https://localhost:8080/"
        },
        "id": "8Se_rCH_UKUu",
        "outputId": "956d964f-1215-4036-a8a1-e833d5150f0a"
      },
      "execution_count": 27,
      "outputs": [
        {
          "output_type": "stream",
          "name": "stdout",
          "text": [
            "{'Name': 'Dimple', 'Age': 20, 'City': 'Bengaluru'}\n"
          ]
        }
      ]
    },
    {
      "cell_type": "code",
      "source": [
        "#22.Write a code to add a new key-value pair \"country\": \"USA\" to the dictionary {'name': 'John', 'age': 25}.\n",
        "d = {'name': 'John', 'age': 25}\n",
        "d.update({'Country': 'USA'})\n",
        "print(d)"
      ],
      "metadata": {
        "colab": {
          "base_uri": "https://localhost:8080/"
        },
        "id": "73c9n4TQUiJB",
        "outputId": "217f2c24-ccb9-4f9e-bed9-1288cf4f06d2"
      },
      "execution_count": 31,
      "outputs": [
        {
          "output_type": "stream",
          "name": "stdout",
          "text": [
            "{'name': 'John', 'age': 25, 'Country': 'USA'}\n"
          ]
        }
      ]
    },
    {
      "cell_type": "code",
      "source": [
        "# 23. Write a code to access the value associated with the key \"name\" in the dictionary {'name': 'Alice', 'age': 30}.\n",
        "dicr = {'name': 'Alice', 'age': 30}\n",
        "print(dicr['name'])\n"
      ],
      "metadata": {
        "colab": {
          "base_uri": "https://localhost:8080/"
        },
        "id": "37Os0HpWVUDX",
        "outputId": "a98c936c-cbf5-41bd-ab5f-6028a67a84ec"
      },
      "execution_count": 32,
      "outputs": [
        {
          "output_type": "stream",
          "name": "stdout",
          "text": [
            "Alice\n"
          ]
        }
      ]
    },
    {
      "cell_type": "code",
      "source": [
        "#24. Write a code to remove the key \"age\" from the dictionary {'name': 'Bob', 'age': 22, 'city': 'New York'}\n",
        "d1 = {'name': 'Bob', 'age': 22, 'city': 'New York'}\n",
        "d1.pop(\"age\")\n",
        "print(d1)"
      ],
      "metadata": {
        "colab": {
          "base_uri": "https://localhost:8080/"
        },
        "id": "kOdNp6EzVj6c",
        "outputId": "e94a98e5-0d95-4d9e-d04c-44b0d2f47c84"
      },
      "execution_count": 33,
      "outputs": [
        {
          "output_type": "stream",
          "name": "stdout",
          "text": [
            "{'name': 'Bob', 'city': 'New York'}\n"
          ]
        }
      ]
    },
    {
      "cell_type": "code",
      "source": [
        "#25. Write a code to check if the key \"city\" exists in the dictionary {'name': 'Alice', 'city': 'Paris'}.\n",
        "d2 = {'name': 'Alice', 'city': 'Paris'}\n",
        "print(\"city\" in d2)"
      ],
      "metadata": {
        "colab": {
          "base_uri": "https://localhost:8080/"
        },
        "id": "KFvE71dUVz_e",
        "outputId": "0fb754ac-80fa-4eb4-c8bb-50f3594d6922"
      },
      "execution_count": 34,
      "outputs": [
        {
          "output_type": "stream",
          "name": "stdout",
          "text": [
            "True\n"
          ]
        }
      ]
    },
    {
      "cell_type": "code",
      "source": [
        "#26. Write a code to create a list, a tuple, and a dictionary, and print them all.\n",
        "l = [1,2,3,4,5]\n",
        "t = (1,2,3,4,5)\n",
        "d = {\"A\":1, \"B\":2, \"C\":3, \"D\":4, \"E\":5}\n",
        "print(l)\n",
        "print(t)\n",
        "print(d)"
      ],
      "metadata": {
        "colab": {
          "base_uri": "https://localhost:8080/"
        },
        "id": "k8cI5b1SWKsk",
        "outputId": "92be11e3-fa89-4aa2-8ae4-3693118c0633"
      },
      "execution_count": 35,
      "outputs": [
        {
          "output_type": "stream",
          "name": "stdout",
          "text": [
            "[1, 2, 3, 4, 5]\n",
            "(1, 2, 3, 4, 5)\n",
            "{'A': 1, 'B': 2, 'C': 3, 'D': 4, 'E': 5}\n"
          ]
        }
      ]
    },
    {
      "cell_type": "code",
      "source": [
        "# 27. Write a code to create a list of 5 random numbers between 1 and 100, sort\n",
        "# it in ascending order, and print the result.\n",
        "# take 5 numbers from user\n",
        "numbers = []\n",
        "for i in range(5):\n",
        "    num = int(input(\"Enter a number between 1 and 100: \"))\n",
        "    numbers.append(num)\n",
        "\n",
        "# sort the list\n",
        "numbers.sort()\n",
        "\n",
        "print(\"Sorted List:\", numbers)\n",
        "\n"
      ],
      "metadata": {
        "colab": {
          "base_uri": "https://localhost:8080/"
        },
        "id": "SY4ZMxCwWtXl",
        "outputId": "847304d8-d161-49f9-ca73-0a488120127d"
      },
      "execution_count": 37,
      "outputs": [
        {
          "output_type": "stream",
          "name": "stdout",
          "text": [
            "Enter a number between 1 and 100: 10\n",
            "Enter a number between 1 and 100: 35\n",
            "Enter a number between 1 and 100: 98\n",
            "Enter a number between 1 and 100: 1\n",
            "Enter a number between 1 and 100: 4\n",
            "Sorted List: [1, 4, 10, 35, 98]\n"
          ]
        }
      ]
    },
    {
      "cell_type": "code",
      "source": [
        "#28.Write a code to create a list with strings and print the element at the third index\n",
        "fruits = [\"Apple\",\"Banana\",\"Mango\",\"Orange\",\"Kiwi\"]\n",
        "print(fruits[2])"
      ],
      "metadata": {
        "colab": {
          "base_uri": "https://localhost:8080/"
        },
        "id": "TYAIr7LzYWS9",
        "outputId": "de05abd5-6206-4235-b82e-98c93164a70e"
      },
      "execution_count": 38,
      "outputs": [
        {
          "output_type": "stream",
          "name": "stdout",
          "text": [
            "Mango\n"
          ]
        }
      ]
    },
    {
      "cell_type": "code",
      "source": [
        "#29. Write a code to combine two dictionaries into one and print the result.\n",
        "d1 = {'a':1, 'b':2}\n",
        "d2 = {'c':3, 'd':4}\n",
        "d1.update(d2)\n",
        "print(d1)"
      ],
      "metadata": {
        "colab": {
          "base_uri": "https://localhost:8080/"
        },
        "id": "F3bH_OWKY5xf",
        "outputId": "f79c6990-e5e1-4e51-a1bd-ca6ad5a4dce4"
      },
      "execution_count": 39,
      "outputs": [
        {
          "output_type": "stream",
          "name": "stdout",
          "text": [
            "{'a': 1, 'b': 2, 'c': 3, 'd': 4}\n"
          ]
        }
      ]
    },
    {
      "cell_type": "code",
      "source": [
        "#30. Write a code to convert a list of strings into a set.\n",
        "words = [\"Cap\",\"Mat\",\"Bat\",\"Hat\",\"Pen\"]\n",
        "s = set(words)\n",
        "print(s)"
      ],
      "metadata": {
        "colab": {
          "base_uri": "https://localhost:8080/"
        },
        "id": "HdaNhGg8ZhE1",
        "outputId": "c380724d-acd4-4329-ea64-2dae6657564c"
      },
      "execution_count": 40,
      "outputs": [
        {
          "output_type": "stream",
          "name": "stdout",
          "text": [
            "{'Bat', 'Hat', 'Cap', 'Pen', 'Mat'}\n"
          ]
        }
      ]
    }
  ]
}