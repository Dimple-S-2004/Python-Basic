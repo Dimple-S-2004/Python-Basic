{
  "nbformat": 4,
  "nbformat_minor": 0,
  "metadata": {
    "colab": {
      "provenance": []
    },
    "kernelspec": {
      "name": "python3",
      "display_name": "Python 3"
    },
    "language_info": {
      "name": "python"
    }
  },
  "cells": [
    {
      "cell_type": "code",
      "execution_count": null,
      "metadata": {
        "id": "Gqa9B7kn6nhc"
      },
      "outputs": [],
      "source": []
    },
    {
      "cell_type": "markdown",
      "source": [
        "# **Python Basic Questions**"
      ],
      "metadata": {
        "id": "ea0JnpIC64bz"
      }
    },
    {
      "cell_type": "markdown",
      "source": [
        "#                                              BASIC QUESTIONS:\n",
        "\n",
        "\n",
        "1.   What is Python, and why is it popular?\n",
        "\n",
        "-->Python is a high-level, interpreted, object-oriented programming language.  It's popular because it's easy to learn ,has simple syntax,supports multiple libraries, and is widely usen in Web-Development,Data Science, AI and Automation.\n",
        "\n",
        "\n",
        "---\n",
        "\n",
        "\n",
        "\n",
        "2.What is an interpreter in Python?\n",
        "  \n",
        "  -->The interpreter is a program that executes Python code line by line. It converts Python code into machine understandable instructions directly,       without needing comiplation.\n",
        "\n",
        "\n",
        "---\n",
        "\n",
        "\n",
        "\n",
        "3.What are pre-defined keywords in Python?\n",
        "  \n",
        "  -->Keywords are reserved words in Python that have special meaning and purpose.Eg: if, true, else,while,True,False....\n",
        "\n",
        "\n",
        "---\n",
        "\n",
        "\n",
        "\n",
        "4.Can keyword be used as variable names?\n",
        "\n",
        " -->No. keywords are reserved by Python, so they cannot be used as identifiers\n",
        " (variable names). Example: if = 3 #this give an error.\n",
        "\n",
        "---\n",
        "\n",
        "5. What is mutability in Python?\n",
        "\n",
        " -->Mutablity means whether an object's value can be changed after creation.\n",
        "\n",
        "*   Mutable : can be changed(like list,dict,set).\n",
        "*   Immutable : cannot be changed(like tuple,str).\n",
        "\n",
        "---\n",
        "6.Why list mutable, but tuples are immutable?\n",
        "\n",
        "--> List are mutable because Python allows adding, removing, or updating their elements.\n",
        "Tuples are immutable becaiuse once created, their elements cannot be changed for safety and efficiency.\n",
        "\n",
        "---\n",
        "7.What is the difference between == and is operators in Python?\n",
        "\n",
        "--> The == operator checks whether the values of two objects are equal, while the is operator checks whether two objects refer to the same memory location.\n",
        "\n",
        "== returns True if the contents of the objects are the same, but is returns True only if both objects are actually the same object in memory.\n",
        "\n",
        "Example: 10 == 10 gives True because values are equal, but 10 is 10 may also give True due to integer caching.\n",
        "\n",
        "== is mainly used for checking data equality, while is is mainly used for checking object identity.\n",
        "\n",
        "---\n",
        "8.What are the logical operators in Python?\n",
        "\n",
        "--> Logical operators combine conditions:\n",
        "and : True if both conditiond are True.\n",
        "or : True if at least on condition is True.\n",
        "not : reverses the result(True--> False, False-->True).\n",
        "\n",
        "---\n",
        "9. What is type casting in Python?\n",
        "\n",
        "--> Type Casting is converting one data type into another.\n",
        "Example: x=\"10\"\n",
        "        y=int(x) # type casting from string to int\n",
        "\n",
        "---\n",
        "10. What is the Difference between implicit and explicit type casting?\n",
        "\n",
        "-->\n",
        "Implicit type casting is performed automatically by Python, while explicit type casting is done manually by the programmer.\n",
        "\n",
        "Implicit casting converts smaller data types into larger data types to prevent data loss, whereas explicit casting requires the programmer to specify the conversion using functions like int(), float(), or str().\n",
        "\n",
        "Example of implicit casting: 5 + 2.0 automatically becomes 7.0 (int converted to float).\n",
        "\n",
        "Example of explicit casting: int(\"100\") converts the string \"100\" into the integer 100.\n",
        "\n",
        "---\n",
        "\n",
        "11. What is the purpose of conditional statements in Python?\n",
        "-->\n",
        "Conditional statements (if, elif, else) control the flow of a program by executing certain code blocks only when conditions are true.\n",
        "---\n",
        "12. How does the elif statement work?\n",
        "\n",
        "-->\n",
        "The elif (else if) allows checking multiple conditions.\n",
        "If the first if is false, Python checks the elif conditions in order.\n",
        "Only the first true block executes.\n",
        "\n",
        "---\n",
        "13. What is the difference between for and while loops?\n",
        "\n",
        "-->\n",
        "A for loop is used when the number of iterations is known, while a while loop is used when the number of iterations is unknown.\n",
        "\n",
        "A for loop iterates over a sequence such as a list, string, or range, while a while loop keeps running as long as the condition is True.\n",
        "\n",
        "The syntax of a for loop is for i in range(5):, while the syntax of a while loop is while condition:.\n",
        "\n",
        "A for loop is best suited for fixed repetitions, while a while loop is best suited for condition-based repetition.\n",
        "\n",
        "---\n",
        "14. Describe a scenario where a while loop is more suitable than a for loop.\n",
        "\n",
        "-->\n",
        "A while loop is more suitable when the number of iterations is not fixed and depends on a condition.\n",
        "\n",
        "Example: Keep asking the user for input until they type \"exit\".\n",
        "\n",
        "user_input = \"\"\n",
        "while user_input != \"exit\":\n",
        "    user_input = input(\"Enter something (type 'exit' to stop): \")\n",
        "---\n",
        "\n",
        "\n",
        "\n"
      ],
      "metadata": {
        "id": "PUxFSA7m63Xf"
      }
    },
    {
      "cell_type": "code",
      "source": [
        "#1.Write a Python program to print \"Hello, World!\"\n",
        "print(\"Hello,World!\")"
      ],
      "metadata": {
        "colab": {
          "base_uri": "https://localhost:8080/"
        },
        "id": "f44lMMfDE4Zq",
        "outputId": "fd2ead75-a5b6-4b5d-8f37-7c1b0f2b31cf"
      },
      "execution_count": 1,
      "outputs": [
        {
          "output_type": "stream",
          "name": "stdout",
          "text": [
            "Hello,World!\n"
          ]
        }
      ]
    },
    {
      "cell_type": "code",
      "source": [
        "#2.Write a Python program that displays your name and age\n",
        "name = \"Dimple\"\n",
        "age = 21\n",
        "print(\"Name:\",name)\n",
        "print(\"Age:\",age)"
      ],
      "metadata": {
        "colab": {
          "base_uri": "https://localhost:8080/"
        },
        "id": "Y5EcGc9NFFWW",
        "outputId": "8ed62542-1c98-45ca-f3e9-930f3f1e0ec3"
      },
      "execution_count": 2,
      "outputs": [
        {
          "output_type": "stream",
          "name": "stdout",
          "text": [
            "Name: Dimple\n",
            "Age: 21\n"
          ]
        }
      ]
    },
    {
      "cell_type": "code",
      "source": [
        " #3.Write code to print all the pre-defined keywords in Python using the keyword library\n",
        "import keyword\n",
        "\n",
        "# Print all pre-defined keywords\n",
        "print(\"Python Keywords are:\")\n",
        "print(keyword.kwlist)\n",
        "\n",
        "# Optional: print them one by one\n",
        "print(\"\\nTotal number of keywords:\", len(keyword.kwlist))\n",
        "for kw in keyword.kwlist:\n",
        "    print(kw)\n"
      ],
      "metadata": {
        "colab": {
          "base_uri": "https://localhost:8080/"
        },
        "id": "FXn7QHziFQt4",
        "outputId": "8affd1fa-b6e5-40f2-9b3a-6206ac030a09"
      },
      "execution_count": 3,
      "outputs": [
        {
          "output_type": "stream",
          "name": "stdout",
          "text": [
            "Python Keywords are:\n",
            "['False', 'None', 'True', 'and', 'as', 'assert', 'async', 'await', 'break', 'class', 'continue', 'def', 'del', 'elif', 'else', 'except', 'finally', 'for', 'from', 'global', 'if', 'import', 'in', 'is', 'lambda', 'nonlocal', 'not', 'or', 'pass', 'raise', 'return', 'try', 'while', 'with', 'yield']\n",
            "\n",
            "Total number of keywords: 35\n",
            "False\n",
            "None\n",
            "True\n",
            "and\n",
            "as\n",
            "assert\n",
            "async\n",
            "await\n",
            "break\n",
            "class\n",
            "continue\n",
            "def\n",
            "del\n",
            "elif\n",
            "else\n",
            "except\n",
            "finally\n",
            "for\n",
            "from\n",
            "global\n",
            "if\n",
            "import\n",
            "in\n",
            "is\n",
            "lambda\n",
            "nonlocal\n",
            "not\n",
            "or\n",
            "pass\n",
            "raise\n",
            "return\n",
            "try\n",
            "while\n",
            "with\n",
            "yield\n"
          ]
        }
      ]
    },
    {
      "cell_type": "code",
      "source": [
        "# 4.Write a program that checks if a given word is a Python keyword.\n",
        "import keyword\n",
        "\n",
        "word = input(\"Enter a word:\")\n",
        "if word in keyword.kwlist:\n",
        "    print(\"Word is keyword\")\n",
        "else:\n",
        "    print(\"Word is not keyword\")"
      ],
      "metadata": {
        "colab": {
          "base_uri": "https://localhost:8080/"
        },
        "id": "SLHCC1d1FcF1",
        "outputId": "7ae00785-ecf1-45ac-e3fe-c64c067a1b25"
      },
      "execution_count": 5,
      "outputs": [
        {
          "output_type": "stream",
          "name": "stdout",
          "text": [
            "Enter a word:it\n",
            "Word is not keyword\n"
          ]
        }
      ]
    },
    {
      "cell_type": "code",
      "source": [
        "#5. Create a list and tuple in Python, and demonstrate how attempting to change an element works differently for each.\n",
        "\n",
        "my_list = [1,2,3,4,5] #list creating\n",
        "print(\"Orginial list:\",my_list)\n",
        "\n",
        "my_list[0] = 0 #add new element\n",
        "print(\"After adding new element:\",my_list)\n",
        "\n",
        "my_tuple = (10,20,30,40) #tuple creating\n",
        "print(\"Original tuple:\",my_tuple)\n",
        "\n",
        "my_tuple.insert(0,0) #adding new element\n",
        "print(\"After adding new element:\",my_tuple)"
      ],
      "metadata": {
        "colab": {
          "base_uri": "https://localhost:8080/",
          "height": 245
        },
        "id": "AWzNpA_wFgjj",
        "outputId": "eab1383c-4cb9-4962-d74b-eeb185c245a7"
      },
      "execution_count": 6,
      "outputs": [
        {
          "output_type": "stream",
          "name": "stdout",
          "text": [
            "Orginial list: [1, 2, 3, 4, 5]\n",
            "After adding new element: [0, 2, 3, 4, 5]\n",
            "Original tuple: (10, 20, 30, 40)\n"
          ]
        },
        {
          "output_type": "error",
          "ename": "AttributeError",
          "evalue": "'tuple' object has no attribute 'insert'",
          "traceback": [
            "\u001b[0;31m---------------------------------------------------------------------------\u001b[0m",
            "\u001b[0;31mAttributeError\u001b[0m                            Traceback (most recent call last)",
            "\u001b[0;32m/tmp/ipython-input-4184065340.py\u001b[0m in \u001b[0;36m<cell line: 0>\u001b[0;34m()\u001b[0m\n\u001b[1;32m     10\u001b[0m \u001b[0mprint\u001b[0m\u001b[0;34m(\u001b[0m\u001b[0;34m\"Original tuple:\"\u001b[0m\u001b[0;34m,\u001b[0m\u001b[0mmy_tuple\u001b[0m\u001b[0;34m)\u001b[0m\u001b[0;34m\u001b[0m\u001b[0;34m\u001b[0m\u001b[0m\n\u001b[1;32m     11\u001b[0m \u001b[0;34m\u001b[0m\u001b[0m\n\u001b[0;32m---> 12\u001b[0;31m \u001b[0mmy_tuple\u001b[0m\u001b[0;34m.\u001b[0m\u001b[0minsert\u001b[0m\u001b[0;34m(\u001b[0m\u001b[0;36m0\u001b[0m\u001b[0;34m,\u001b[0m\u001b[0;36m0\u001b[0m\u001b[0;34m)\u001b[0m \u001b[0;31m#adding new element\u001b[0m\u001b[0;34m\u001b[0m\u001b[0;34m\u001b[0m\u001b[0m\n\u001b[0m\u001b[1;32m     13\u001b[0m \u001b[0mprint\u001b[0m\u001b[0;34m(\u001b[0m\u001b[0;34m\"After adding new element:\"\u001b[0m\u001b[0;34m,\u001b[0m\u001b[0mmy_tuple\u001b[0m\u001b[0;34m)\u001b[0m\u001b[0;34m\u001b[0m\u001b[0;34m\u001b[0m\u001b[0m\n",
            "\u001b[0;31mAttributeError\u001b[0m: 'tuple' object has no attribute 'insert'"
          ]
        }
      ]
    },
    {
      "cell_type": "code",
      "source": [
        "#  6. Write a function to demonstrate the behavior of mutable and immutable arguments\n",
        "def modify_list(lst):\n",
        "    lst.append(100) #modifies original list\n",
        "\n",
        "def modify_number(num):\n",
        "     num += 10 # creates a new number, doesn't change original\n",
        "\n",
        "my_list = [1,2,3]\n",
        "my_num = 50\n",
        "\n",
        "modify_list(my_list)\n",
        "modify_number(my_num)\n",
        "\n",
        "print(\"list after function call:\",my_list)\n",
        "print(\"Number after function call:\",my_num)"
      ],
      "metadata": {
        "colab": {
          "base_uri": "https://localhost:8080/"
        },
        "id": "tAc3u25DFuBA",
        "outputId": "7bce7ec7-bcdb-4d4d-e815-59712ac31843"
      },
      "execution_count": 7,
      "outputs": [
        {
          "output_type": "stream",
          "name": "stdout",
          "text": [
            "list after function call: [1, 2, 3, 100]\n",
            "Number after function call: 50\n"
          ]
        }
      ]
    },
    {
      "cell_type": "code",
      "source": [
        "#  7. Write a program that performs basic arithmetic operations on two user-input numbers.\n",
        "\n",
        "a = int(input(\"Enter first number:\"))\n",
        "b = int(input(\"Enter second number:\"))\n",
        "\n",
        "print(\"Addition:\",a+b)\n",
        "print(\"Subtract:\",a-b)\n",
        "print(\"Multiply:\",a*b)\n",
        "print(\"Division:\",a/b)\n",
        "print(\"Modules:\",a//b)"
      ],
      "metadata": {
        "colab": {
          "base_uri": "https://localhost:8080/"
        },
        "id": "eorWqq5sF0Oo",
        "outputId": "9c7668d9-2388-4d82-d3ac-5dd7156bccca"
      },
      "execution_count": 8,
      "outputs": [
        {
          "output_type": "stream",
          "name": "stdout",
          "text": [
            "Enter first number:10\n",
            "Enter second number:2\n",
            "Addition: 12\n",
            "Subtract: 8\n",
            "Multiply: 20\n",
            "Division: 5.0\n",
            "Modules: 5\n"
          ]
        }
      ]
    },
    {
      "cell_type": "code",
      "source": [
        "#  8. Write a program to demonstrate the use of logical operators.\n",
        "\n",
        "x = True\n",
        "y = False\n",
        "\n",
        "print(\"x and y:\",x and y)\n",
        "print(\"x or y:\", x or y)\n",
        "print(\"Not x:\", not x)"
      ],
      "metadata": {
        "colab": {
          "base_uri": "https://localhost:8080/"
        },
        "id": "_Z39_JIiF85G",
        "outputId": "46092fac-470b-421c-f02b-b28c32b70cf6"
      },
      "execution_count": 9,
      "outputs": [
        {
          "output_type": "stream",
          "name": "stdout",
          "text": [
            "x and y: False\n",
            "x or y: True\n",
            "Not x: False\n"
          ]
        }
      ]
    },
    {
      "cell_type": "code",
      "source": [
        "# 9. Write a Python program to convert user input from string to integer, float, and boolean types.\n",
        "\n",
        "user_input = input(\"Enter a value:\")\n",
        "\n",
        "as_int = int(user_input)\n",
        "as_float = float(user_input)\n",
        "as_bool = bool(user_input)\n",
        "as_str = str(user_input)\n",
        "\n",
        "print(\"Integer:\",as_int)\n",
        "print(\"Float:\",as_float)\n",
        "print(\"Boolean:\",as_bool)\n",
        "print(\"String:\",as_str)"
      ],
      "metadata": {
        "colab": {
          "base_uri": "https://localhost:8080/"
        },
        "id": "wNcK2yboF96J",
        "outputId": "b45c4d2f-ddf8-4af2-e0a2-4e54fddfba94"
      },
      "execution_count": 10,
      "outputs": [
        {
          "output_type": "stream",
          "name": "stdout",
          "text": [
            "Enter a value:300\n",
            "Integer: 300\n",
            "Float: 300.0\n",
            "Boolean: True\n",
            "String: 300\n"
          ]
        }
      ]
    },
    {
      "cell_type": "code",
      "source": [
        "#  10. Write code to demonstrate type casting with list elements\n",
        "\n",
        "my_list = [\"1\", \"2\",\"3\",\"4\"]\n",
        "int_list = [int(i) for i in my_list]\n",
        "\n",
        "print(\"List:\",my_list)\n",
        "print(\"After typecasting:\", int_list)"
      ],
      "metadata": {
        "colab": {
          "base_uri": "https://localhost:8080/"
        },
        "id": "Mey6t4cxGED-",
        "outputId": "225dacca-a356-4506-f513-760d6d1aafcf"
      },
      "execution_count": 11,
      "outputs": [
        {
          "output_type": "stream",
          "name": "stdout",
          "text": [
            "List: ['1', '2', '3', '4']\n",
            "After typecasting: [1, 2, 3, 4]\n"
          ]
        }
      ]
    },
    {
      "cell_type": "code",
      "source": [
        "#11. Write a program that checks if a number is positive, negative, or zero\n",
        "\n",
        "num = int(input(\"Enter a number:\"))\n",
        "\n",
        "if num > 0:\n",
        "    print(\"Number is Positive\")\n",
        "elif num < 0:\n",
        "    print(\"Number is Negative\")\n",
        "else:\n",
        "    print(\"Number is Zero\")"
      ],
      "metadata": {
        "colab": {
          "base_uri": "https://localhost:8080/"
        },
        "id": "oX_Y-XEVGHn3",
        "outputId": "8638bba5-4f88-41d4-b6b4-910581fa309e"
      },
      "execution_count": 12,
      "outputs": [
        {
          "output_type": "stream",
          "name": "stdout",
          "text": [
            "Enter a number:7\n",
            "Number is Positive\n"
          ]
        }
      ]
    },
    {
      "cell_type": "code",
      "source": [
        "# 12. Write a for loop to print numbers from 1 to 10.\n",
        "\n",
        "for i in range(1,11):\n",
        "    print(i)"
      ],
      "metadata": {
        "colab": {
          "base_uri": "https://localhost:8080/"
        },
        "id": "LnS2UcMtGM6q",
        "outputId": "b3d07a84-bd5a-4be3-f898-94c8c5db3187"
      },
      "execution_count": 13,
      "outputs": [
        {
          "output_type": "stream",
          "name": "stdout",
          "text": [
            "1\n",
            "2\n",
            "3\n",
            "4\n",
            "5\n",
            "6\n",
            "7\n",
            "8\n",
            "9\n",
            "10\n"
          ]
        }
      ]
    },
    {
      "cell_type": "code",
      "source": [
        "#13. Write a Python program to find the sum of all even numbers between 1 and 50.\n",
        "\n",
        "num = 0\n",
        "for i in range(2,51,2):\n",
        "    num += i\n",
        "    print(\"Sum of even numbers between 1 and 50:\", num)"
      ],
      "metadata": {
        "colab": {
          "base_uri": "https://localhost:8080/"
        },
        "id": "JS8CFMqMGRKx",
        "outputId": "22a133b1-86ce-4014-cdc4-02546b4af3ed"
      },
      "execution_count": 14,
      "outputs": [
        {
          "output_type": "stream",
          "name": "stdout",
          "text": [
            "Sum of even numbers between 1 and 50: 2\n",
            "Sum of even numbers between 1 and 50: 6\n",
            "Sum of even numbers between 1 and 50: 12\n",
            "Sum of even numbers between 1 and 50: 20\n",
            "Sum of even numbers between 1 and 50: 30\n",
            "Sum of even numbers between 1 and 50: 42\n",
            "Sum of even numbers between 1 and 50: 56\n",
            "Sum of even numbers between 1 and 50: 72\n",
            "Sum of even numbers between 1 and 50: 90\n",
            "Sum of even numbers between 1 and 50: 110\n",
            "Sum of even numbers between 1 and 50: 132\n",
            "Sum of even numbers between 1 and 50: 156\n",
            "Sum of even numbers between 1 and 50: 182\n",
            "Sum of even numbers between 1 and 50: 210\n",
            "Sum of even numbers between 1 and 50: 240\n",
            "Sum of even numbers between 1 and 50: 272\n",
            "Sum of even numbers between 1 and 50: 306\n",
            "Sum of even numbers between 1 and 50: 342\n",
            "Sum of even numbers between 1 and 50: 380\n",
            "Sum of even numbers between 1 and 50: 420\n",
            "Sum of even numbers between 1 and 50: 462\n",
            "Sum of even numbers between 1 and 50: 506\n",
            "Sum of even numbers between 1 and 50: 552\n",
            "Sum of even numbers between 1 and 50: 600\n",
            "Sum of even numbers between 1 and 50: 650\n"
          ]
        }
      ]
    },
    {
      "cell_type": "code",
      "source": [
        "#14. Write a program to reverse a string using a while loop.\n",
        "s = input(\"Enter a string:\")\n",
        "reversed_str = \"\"\n",
        "i = len(s) -1\n",
        "\n",
        "while i >=0:\n",
        "    reversed_str += s[i]\n",
        "    i -= 1\n",
        "    print(\"Reversed String:\",reversed_str)"
      ],
      "metadata": {
        "colab": {
          "base_uri": "https://localhost:8080/"
        },
        "id": "SZMQs9tfGRYi",
        "outputId": "e065b06c-30fd-4090-ed9d-ce597f647e34"
      },
      "execution_count": 15,
      "outputs": [
        {
          "output_type": "stream",
          "name": "stdout",
          "text": [
            "Enter a string:dimple\n",
            "Reversed String: e\n",
            "Reversed String: el\n",
            "Reversed String: elp\n",
            "Reversed String: elpm\n",
            "Reversed String: elpmi\n",
            "Reversed String: elpmid\n"
          ]
        }
      ]
    },
    {
      "cell_type": "code",
      "source": [
        "#15. Write a Python program to calculate the factorial of a number provided by the user using a while loop.\n",
        "num = int(input(\"Enter a number:\"))\n",
        "fact = 1\n",
        "i = 1\n",
        "\n",
        "while i<= num:\n",
        "    fact *= i\n",
        "    i +=1\n",
        "    print(\"Factorial of\",num,\"is\",fact)"
      ],
      "metadata": {
        "colab": {
          "base_uri": "https://localhost:8080/"
        },
        "id": "GtNbR9h-Gdph",
        "outputId": "92b46fd0-ce84-45ae-8e30-d2b75ff09456"
      },
      "execution_count": 16,
      "outputs": [
        {
          "output_type": "stream",
          "name": "stdout",
          "text": [
            "Enter a number:5\n",
            "Factorial of 5 is 1\n",
            "Factorial of 5 is 2\n",
            "Factorial of 5 is 6\n",
            "Factorial of 5 is 24\n",
            "Factorial of 5 is 120\n"
          ]
        }
      ]
    }
  ]
}